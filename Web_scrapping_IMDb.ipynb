{
  "nbformat": 4,
  "nbformat_minor": 0,
  "metadata": {
    "colab": {
      "provenance": []
    },
    "kernelspec": {
      "name": "python3",
      "display_name": "Python 3"
    },
    "language_info": {
      "name": "python"
    }
  },
  "cells": [
    {
      "cell_type": "code",
      "source": [
        "#Import libraries\n",
        "from bs4 import BeautifulSoup\n",
        "import requests\n",
        "import csv"
      ],
      "metadata": {
        "id": "MYURwSHFQ_m6"
      },
      "execution_count": 327,
      "outputs": []
    },
    {
      "cell_type": "code",
      "source": [
        "#Open a new file\n",
        "file = open(\"Top_movies_rated.csv\", \"w\")\n",
        "#We are going to write into our CSV file\n",
        "writer = csv.writer(file)"
      ],
      "metadata": {
        "id": "3YHp4kB8RFJd"
      },
      "execution_count": 328,
      "outputs": []
    },
    {
      "cell_type": "code",
      "source": [
        "#Create a header for the row of the csv file\n",
        "writer.writerow([\"Title\", \"Year\", \"Director\", \"Genre\", \"Duration\", \"Gross\", \"Rating\"])"
      ],
      "metadata": {
        "colab": {
          "base_uri": "https://localhost:8080/"
        },
        "id": "g4EH1HQJRkSp",
        "outputId": "a71dff6e-630a-40e9-facd-14f991727902"
      },
      "execution_count": 329,
      "outputs": [
        {
          "output_type": "execute_result",
          "data": {
            "text/plain": [
              "49"
            ]
          },
          "metadata": {},
          "execution_count": 329
        }
      ]
    },
    {
      "cell_type": "code",
      "source": [
        "#Request webpage and store it against a variable\n",
        "page_to_scrape = requests.get(\"http://www.imdb.com/search/title?sort=num_votes,desc&start=1&title_type=feature&year=1950,2012\")\n",
        "page_to_scrape"
      ],
      "metadata": {
        "colab": {
          "base_uri": "https://localhost:8080/"
        },
        "id": "eK2UwCrkR9kx",
        "outputId": "e8221c9a-8394-43f4-8437-86ddd5370f37"
      },
      "execution_count": 330,
      "outputs": [
        {
          "output_type": "execute_result",
          "data": {
            "text/plain": [
              "<Response [200]>"
            ]
          },
          "metadata": {},
          "execution_count": 330
        }
      ]
    },
    {
      "cell_type": "code",
      "source": [
        "#Use BeaustifulSoup to parse the HTML code and store against a variable\n",
        "soup = BeautifulSoup(page_to_scrape.text, \"html.parser\")"
      ],
      "metadata": {
        "id": "_XCWk6JBSML8"
      },
      "execution_count": 331,
      "outputs": []
    },
    {
      "cell_type": "code",
      "source": [
        "#Find all the items in the page with the Class attribute of Text and store it against a variable\n",
        "\n",
        "#Find the title\n",
        "title = soup.findAll(\"h3\", attrs={\"class\": \"lister-item-header\"})\n",
        "\n",
        "titles = []\n",
        "for item in title:\n",
        "    # Extract the text within the <a> tag\n",
        "    link_text = item.find(\"a\").text\n",
        "    titles.append(link_text)\n",
        "\n",
        "print(titles)"
      ],
      "metadata": {
        "colab": {
          "base_uri": "https://localhost:8080/"
        },
        "id": "PHTy-YJmSUYH",
        "outputId": "aaaf9ce6-cbfc-40bb-94e8-1af04a9cf9e5"
      },
      "execution_count": 332,
      "outputs": [
        {
          "output_type": "stream",
          "name": "stdout",
          "text": [
            "['The Shawshank Redemption', 'The Dark Knight', 'Inception', 'Fight Club', 'Forrest Gump', 'Pulp Fiction', 'The Matrix', 'The Lord of the Rings: The Fellowship of the Ring', 'The Godfather', 'The Lord of the Rings: The Return of the King', 'The Dark Knight Rises', 'The Lord of the Rings: The Two Towers', 'Se7en', 'Django Unchained', 'Gladiator', 'Batman Begins', 'Inglourious Basterds', 'The Silence of the Lambs', 'Saving Private Ryan', 'The Avengers', 'Star Wars: Episode IV - A New Hope', \"Schindler's List\", 'The Prestige', 'Shutter Island', 'The Departed', 'Avatar', 'The Green Mile', 'Star Wars: Episode V - The Empire Strikes Back', 'The Godfather Part II', 'Memento', 'Back to the Future', 'Titanic', 'Goodfellas', 'Léon: The Professional', 'American Beauty', 'Pirates of the Caribbean: The Curse of the Black Pearl', 'WALL·E', 'American History X', 'Kill Bill: Vol. 1', 'V for Vendetta', 'Terminator 2: Judgment Day', 'The Truman Show', 'The Usual Suspects', 'The Lion King', 'Iron Man', 'Star Wars: Episode VI - Return of the Jedi', 'Up', 'Finding Nemo', 'Braveheart', 'The Shining']\n"
          ]
        }
      ]
    },
    {
      "cell_type": "code",
      "source": [
        "#Find the year\n",
        "year = soup.findAll(\"span\", attrs={\"class\": \"lister-item-year text-muted unbold\"})\n",
        "\n",
        "years = []\n",
        "for item in year:\n",
        "  years.append(item.text)\n",
        "\n",
        "print(years)"
      ],
      "metadata": {
        "colab": {
          "base_uri": "https://localhost:8080/"
        },
        "id": "agJLAqXsXYG4",
        "outputId": "a62a3320-1c10-4146-9b33-48193150f3a5"
      },
      "execution_count": 333,
      "outputs": [
        {
          "output_type": "stream",
          "name": "stdout",
          "text": [
            "['(1994)', '(2008)', '(2010)', '(1999)', '(1994)', '(1994)', '(1999)', '(2001)', '(1972)', '(2003)', '(2012)', '(2002)', '(1995)', '(2012)', '(2000)', '(2005)', '(2009)', '(1991)', '(1998)', '(2012)', '(1977)', '(1993)', '(2006)', '(2010)', '(2006)', '(2009)', '(1999)', '(1980)', '(1974)', '(2000)', '(1985)', '(1997)', '(1990)', '(1994)', '(1999)', '(2003)', '(2008)', '(1998)', '(2003)', '(2005)', '(1991)', '(1998)', '(1995)', '(1994)', '(2008)', '(1983)', '(2009)', '(2003)', '(1995)', '(1980)']\n"
          ]
        }
      ]
    },
    {
      "cell_type": "code",
      "source": [
        "#Find the director\n",
        "\n",
        "director = soup.findAll(\"p\", attrs={\"class\": \"\"})\n",
        "\n",
        "directors = []\n",
        "for item in director:\n",
        "    # Extract the text within the <a> tag\n",
        "    link_text = item.find(\"a\").text\n",
        "    directors.append(link_text)\n",
        "\n",
        "print(directors)"
      ],
      "metadata": {
        "colab": {
          "base_uri": "https://localhost:8080/"
        },
        "id": "isZ2wen1X9Gr",
        "outputId": "b8023850-e77c-41e2-ec4b-354cb45a9226"
      },
      "execution_count": 334,
      "outputs": [
        {
          "output_type": "stream",
          "name": "stdout",
          "text": [
            "['Frank Darabont', 'Christopher Nolan', 'Christopher Nolan', 'David Fincher', 'Robert Zemeckis', 'Quentin Tarantino', 'Lana Wachowski', 'Peter Jackson', 'Francis Ford Coppola', 'Peter Jackson', 'Christopher Nolan', 'Peter Jackson', 'David Fincher', 'Quentin Tarantino', 'Ridley Scott', 'Christopher Nolan', 'Quentin Tarantino', 'Jonathan Demme', 'Steven Spielberg', 'Joss Whedon', 'George Lucas', 'Steven Spielberg', 'Christopher Nolan', 'Martin Scorsese', 'Martin Scorsese', 'James Cameron', 'Frank Darabont', 'Irvin Kershner', 'Francis Ford Coppola', 'Christopher Nolan', 'Robert Zemeckis', 'James Cameron', 'Martin Scorsese', 'Luc Besson', 'Sam Mendes', 'Gore Verbinski', 'Andrew Stanton', 'Tony Kaye', 'Quentin Tarantino', 'James McTeigue', 'James Cameron', 'Peter Weir', 'Bryan Singer', 'Roger Allers', 'Jon Favreau', 'Richard Marquand', 'Pete Docter', 'Andrew Stanton', 'Mel Gibson', 'Stanley Kubrick']\n"
          ]
        }
      ]
    },
    {
      "cell_type": "code",
      "source": [
        "#Find the genre\n",
        "\n",
        "genre = soup.findAll(\"span\", attrs={\"class\": \"genre\"})\n",
        "\n",
        "genres = []\n",
        "\n",
        "for item in genre:\n",
        "  genres.append(item.text.strip())\n",
        "\n",
        "print(genres)"
      ],
      "metadata": {
        "colab": {
          "base_uri": "https://localhost:8080/"
        },
        "id": "VQ-0OUMZZj_C",
        "outputId": "0f063343-df66-4ba5-a51e-5c909f3bd013"
      },
      "execution_count": 335,
      "outputs": [
        {
          "output_type": "stream",
          "name": "stdout",
          "text": [
            "['Drama', 'Action, Crime, Drama', 'Action, Adventure, Sci-Fi', 'Drama', 'Drama, Romance', 'Crime, Drama', 'Action, Sci-Fi', 'Action, Adventure, Drama', 'Crime, Drama', 'Action, Adventure, Drama', 'Action, Drama, Thriller', 'Action, Adventure, Drama', 'Crime, Drama, Mystery', 'Drama, Western', 'Action, Adventure, Drama', 'Action, Crime, Drama', 'Adventure, Drama, War', 'Crime, Drama, Thriller', 'Drama, War', 'Action, Sci-Fi', 'Action, Adventure, Fantasy', 'Biography, Drama, History', 'Drama, Mystery, Sci-Fi', 'Mystery, Thriller', 'Crime, Drama, Thriller', 'Action, Adventure, Fantasy', 'Crime, Drama, Fantasy', 'Action, Adventure, Fantasy', 'Crime, Drama', 'Mystery, Thriller', 'Adventure, Comedy, Sci-Fi', 'Drama, Romance', 'Biography, Crime, Drama', 'Action, Crime, Drama', 'Drama', 'Action, Adventure, Fantasy', 'Animation, Adventure, Family', 'Crime, Drama', 'Action, Crime, Thriller', 'Action, Drama, Sci-Fi', 'Action, Sci-Fi', 'Comedy, Drama', 'Crime, Drama, Mystery', 'Animation, Adventure, Drama', 'Action, Adventure, Sci-Fi', 'Action, Adventure, Fantasy', 'Animation, Adventure, Comedy', 'Animation, Adventure, Comedy', 'Biography, Drama, History', 'Drama, Horror']\n"
          ]
        }
      ]
    },
    {
      "cell_type": "code",
      "source": [
        "#Find the duration\n",
        "\n",
        "duration = soup.findAll(\"span\", attrs={\"class\": \"runtime\"})\n",
        "\n",
        "durations = []\n",
        "\n",
        "for item in duration:\n",
        "  durations.append(item.text)\n",
        "\n",
        "print(durations)"
      ],
      "metadata": {
        "colab": {
          "base_uri": "https://localhost:8080/"
        },
        "id": "iKe2H6QTrJH6",
        "outputId": "58306a39-3ee5-4aa0-a76a-8ed61c8fd463"
      },
      "execution_count": 336,
      "outputs": [
        {
          "output_type": "stream",
          "name": "stdout",
          "text": [
            "['142 min', '152 min', '148 min', '139 min', '142 min', '154 min', '136 min', '178 min', '175 min', '201 min', '164 min', '179 min', '127 min', '165 min', '155 min', '140 min', '153 min', '118 min', '169 min', '143 min', '121 min', '195 min', '130 min', '138 min', '151 min', '162 min', '189 min', '124 min', '202 min', '113 min', '116 min', '194 min', '145 min', '110 min', '122 min', '143 min', '98 min', '119 min', '111 min', '132 min', '137 min', '103 min', '106 min', '88 min', '126 min', '131 min', '96 min', '100 min', '178 min', '146 min']\n"
          ]
        }
      ]
    },
    {
      "cell_type": "code",
      "source": [
        "#Find the gross\n",
        "\n",
        "gross = soup.findAll(\"span\", attrs={\"name\": \"nv\"})[1::2]\n",
        "\n",
        "gross2 = []\n",
        "\n",
        "for item in gross:\n",
        "    gross2.append(item.text)\n",
        "\n",
        "print(gross2)"
      ],
      "metadata": {
        "colab": {
          "base_uri": "https://localhost:8080/"
        },
        "id": "opOu0WCUSAlz",
        "outputId": "5809636b-5f47-45b3-9cc4-1e0f54ee9f8d"
      },
      "execution_count": 337,
      "outputs": [
        {
          "output_type": "stream",
          "name": "stdout",
          "text": [
            "['$28.34M', '$534.86M', '$292.58M', '$37.03M', '$330.25M', '$107.93M', '$171.48M', '$315.54M', '$134.97M', '$377.85M', '$448.14M', '$342.55M', '$100.13M', '$162.81M', '$187.71M', '$206.85M', '$120.54M', '$130.74M', '$216.54M', '$623.28M', '$322.74M', '$96.90M', '$53.09M', '$128.01M', '$132.38M', '$760.51M', '$136.80M', '$290.48M', '$57.30M', '$25.54M', '$210.61M', '$659.33M', '$46.84M', '$19.50M', '$130.10M', '$305.41M', '$223.81M', '$6.72M', '$70.10M', '$70.51M', '$204.84M', '$125.62M', '$23.34M', '$422.78M', '$318.41M', '$309.13M', '$293.00M', '$380.84M', '$75.60M', '$44.02M']\n"
          ]
        }
      ]
    },
    {
      "cell_type": "code",
      "source": [
        "#Find the rating\n",
        "\n",
        "rating = soup.findAll(\"div\", attrs={\"class\": \"inline-block ratings-imdb-rating\"})\n",
        "\n",
        "ratings = []\n",
        "for item in rating:\n",
        "    # Extract the text within the <a> tag\n",
        "    link_text = item.find(\"strong\").text\n",
        "    ratings.append(link_text)\n",
        "\n",
        "print(ratings)\n"
      ],
      "metadata": {
        "colab": {
          "base_uri": "https://localhost:8080/"
        },
        "id": "pNLUT577v0X0",
        "outputId": "c2b46340-ea7c-4cf2-9be4-b8f66c339ce9"
      },
      "execution_count": 338,
      "outputs": [
        {
          "output_type": "stream",
          "name": "stdout",
          "text": [
            "['9.3', '9.0', '8.8', '8.8', '8.8', '8.9', '8.7', '8.8', '9.2', '9.0', '8.4', '8.8', '8.6', '8.4', '8.5', '8.2', '8.3', '8.6', '8.6', '8.0', '8.6', '9.0', '8.5', '8.2', '8.5', '7.9', '8.6', '8.7', '9.0', '8.4', '8.5', '7.9', '8.7', '8.5', '8.3', '8.1', '8.4', '8.5', '8.2', '8.2', '8.6', '8.2', '8.5', '8.5', '7.9', '8.3', '8.3', '8.2', '8.3', '8.4']\n"
          ]
        }
      ]
    },
    {
      "cell_type": "code",
      "source": [
        "#Loop through all lists using Zip function to combime them together\n",
        "for title, year, director, genre, duration, gross, rating in zip(titles, years, directors, genres, durations, gross2, ratings):\n",
        "    writer.writerow([title, year, director, genre, duration, gross, rating])"
      ],
      "metadata": {
        "id": "urt4o028znGN"
      },
      "execution_count": 339,
      "outputs": []
    }
  ]
}