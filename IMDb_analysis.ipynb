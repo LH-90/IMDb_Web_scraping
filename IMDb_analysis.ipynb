{
  "nbformat": 4,
  "nbformat_minor": 0,
  "metadata": {
    "colab": {
      "provenance": []
    },
    "kernelspec": {
      "name": "python3",
      "display_name": "Python 3"
    },
    "language_info": {
      "name": "python"
    }
  },
  "cells": [
    {
      "cell_type": "code",
      "execution_count": 960,
      "metadata": {
        "id": "mjPpQn3dHBOk"
      },
      "outputs": [],
      "source": [
        "import pandas as pd\n",
        "import matplotlib.pyplot as plt\n",
        "import seaborn as sns"
      ]
    },
    {
      "cell_type": "code",
      "source": [
        "df = pd.read_csv(\"Top_votes_movies.csv\")"
      ],
      "metadata": {
        "id": "F9izoz6iHLfR"
      },
      "execution_count": 961,
      "outputs": []
    },
    {
      "cell_type": "markdown",
      "source": [
        "## This dataset represents the top 50 movies sorted by number of votes and released between 1950 and 2012"
      ],
      "metadata": {
        "id": "g_7fQ7KoaQZS"
      }
    },
    {
      "cell_type": "markdown",
      "source": [
        "# **Dataset cleaning**"
      ],
      "metadata": {
        "id": "t5zjfbGdxn0J"
      }
    },
    {
      "cell_type": "code",
      "source": [
        "df.head()"
      ],
      "metadata": {
        "colab": {
          "base_uri": "https://localhost:8080/",
          "height": 206
        },
        "id": "8oFN2LcCmJGV",
        "outputId": "94748645-afef-4f43-e338-ed0b11296ca9"
      },
      "execution_count": 962,
      "outputs": [
        {
          "output_type": "execute_result",
          "data": {
            "text/plain": [
              "                      Title    Year           Director  \\\n",
              "0  The Shawshank Redemption  (1994)     Frank Darabont   \n",
              "1           The Dark Knight  (2008)  Christopher Nolan   \n",
              "2                 Inception  (2010)  Christopher Nolan   \n",
              "3                Fight Club  (1999)      David Fincher   \n",
              "4              Forrest Gump  (1994)    Robert Zemeckis   \n",
              "\n",
              "                       Genre Duration     Gross      Votes  Rating  \n",
              "0                      Drama  142 min   $28.34M  2,777,598     9.3  \n",
              "1       Action, Crime, Drama  152 min  $534.86M  2,754,377     9.0  \n",
              "2  Action, Adventure, Sci-Fi  148 min  $292.58M  2,445,084     8.8  \n",
              "3                      Drama  139 min   $37.03M  2,213,195     8.8  \n",
              "4             Drama, Romance  142 min  $330.25M  2,160,221     8.8  "
            ],
            "text/html": [
              "\n",
              "\n",
              "  <div id=\"df-9b7c0d9e-9f34-41f4-a4e2-ec5ead89f364\">\n",
              "    <div class=\"colab-df-container\">\n",
              "      <div>\n",
              "<style scoped>\n",
              "    .dataframe tbody tr th:only-of-type {\n",
              "        vertical-align: middle;\n",
              "    }\n",
              "\n",
              "    .dataframe tbody tr th {\n",
              "        vertical-align: top;\n",
              "    }\n",
              "\n",
              "    .dataframe thead th {\n",
              "        text-align: right;\n",
              "    }\n",
              "</style>\n",
              "<table border=\"1\" class=\"dataframe\">\n",
              "  <thead>\n",
              "    <tr style=\"text-align: right;\">\n",
              "      <th></th>\n",
              "      <th>Title</th>\n",
              "      <th>Year</th>\n",
              "      <th>Director</th>\n",
              "      <th>Genre</th>\n",
              "      <th>Duration</th>\n",
              "      <th>Gross</th>\n",
              "      <th>Votes</th>\n",
              "      <th>Rating</th>\n",
              "    </tr>\n",
              "  </thead>\n",
              "  <tbody>\n",
              "    <tr>\n",
              "      <th>0</th>\n",
              "      <td>The Shawshank Redemption</td>\n",
              "      <td>(1994)</td>\n",
              "      <td>Frank Darabont</td>\n",
              "      <td>Drama</td>\n",
              "      <td>142 min</td>\n",
              "      <td>$28.34M</td>\n",
              "      <td>2,777,598</td>\n",
              "      <td>9.3</td>\n",
              "    </tr>\n",
              "    <tr>\n",
              "      <th>1</th>\n",
              "      <td>The Dark Knight</td>\n",
              "      <td>(2008)</td>\n",
              "      <td>Christopher Nolan</td>\n",
              "      <td>Action, Crime, Drama</td>\n",
              "      <td>152 min</td>\n",
              "      <td>$534.86M</td>\n",
              "      <td>2,754,377</td>\n",
              "      <td>9.0</td>\n",
              "    </tr>\n",
              "    <tr>\n",
              "      <th>2</th>\n",
              "      <td>Inception</td>\n",
              "      <td>(2010)</td>\n",
              "      <td>Christopher Nolan</td>\n",
              "      <td>Action, Adventure, Sci-Fi</td>\n",
              "      <td>148 min</td>\n",
              "      <td>$292.58M</td>\n",
              "      <td>2,445,084</td>\n",
              "      <td>8.8</td>\n",
              "    </tr>\n",
              "    <tr>\n",
              "      <th>3</th>\n",
              "      <td>Fight Club</td>\n",
              "      <td>(1999)</td>\n",
              "      <td>David Fincher</td>\n",
              "      <td>Drama</td>\n",
              "      <td>139 min</td>\n",
              "      <td>$37.03M</td>\n",
              "      <td>2,213,195</td>\n",
              "      <td>8.8</td>\n",
              "    </tr>\n",
              "    <tr>\n",
              "      <th>4</th>\n",
              "      <td>Forrest Gump</td>\n",
              "      <td>(1994)</td>\n",
              "      <td>Robert Zemeckis</td>\n",
              "      <td>Drama, Romance</td>\n",
              "      <td>142 min</td>\n",
              "      <td>$330.25M</td>\n",
              "      <td>2,160,221</td>\n",
              "      <td>8.8</td>\n",
              "    </tr>\n",
              "  </tbody>\n",
              "</table>\n",
              "</div>\n",
              "      <button class=\"colab-df-convert\" onclick=\"convertToInteractive('df-9b7c0d9e-9f34-41f4-a4e2-ec5ead89f364')\"\n",
              "              title=\"Convert this dataframe to an interactive table.\"\n",
              "              style=\"display:none;\">\n",
              "\n",
              "  <svg xmlns=\"http://www.w3.org/2000/svg\" height=\"24px\"viewBox=\"0 0 24 24\"\n",
              "       width=\"24px\">\n",
              "    <path d=\"M0 0h24v24H0V0z\" fill=\"none\"/>\n",
              "    <path d=\"M18.56 5.44l.94 2.06.94-2.06 2.06-.94-2.06-.94-.94-2.06-.94 2.06-2.06.94zm-11 1L8.5 8.5l.94-2.06 2.06-.94-2.06-.94L8.5 2.5l-.94 2.06-2.06.94zm10 10l.94 2.06.94-2.06 2.06-.94-2.06-.94-.94-2.06-.94 2.06-2.06.94z\"/><path d=\"M17.41 7.96l-1.37-1.37c-.4-.4-.92-.59-1.43-.59-.52 0-1.04.2-1.43.59L10.3 9.45l-7.72 7.72c-.78.78-.78 2.05 0 2.83L4 21.41c.39.39.9.59 1.41.59.51 0 1.02-.2 1.41-.59l7.78-7.78 2.81-2.81c.8-.78.8-2.07 0-2.86zM5.41 20L4 18.59l7.72-7.72 1.47 1.35L5.41 20z\"/>\n",
              "  </svg>\n",
              "      </button>\n",
              "\n",
              "\n",
              "\n",
              "    <div id=\"df-24f0cfd3-851c-48c7-bf03-015aa302252f\">\n",
              "      <button class=\"colab-df-quickchart\" onclick=\"quickchart('df-24f0cfd3-851c-48c7-bf03-015aa302252f')\"\n",
              "              title=\"Suggest charts.\"\n",
              "              style=\"display:none;\">\n",
              "\n",
              "<svg xmlns=\"http://www.w3.org/2000/svg\" height=\"24px\"viewBox=\"0 0 24 24\"\n",
              "     width=\"24px\">\n",
              "    <g>\n",
              "        <path d=\"M19 3H5c-1.1 0-2 .9-2 2v14c0 1.1.9 2 2 2h14c1.1 0 2-.9 2-2V5c0-1.1-.9-2-2-2zM9 17H7v-7h2v7zm4 0h-2V7h2v10zm4 0h-2v-4h2v4z\"/>\n",
              "    </g>\n",
              "</svg>\n",
              "      </button>\n",
              "    </div>\n",
              "\n",
              "<style>\n",
              "  .colab-df-quickchart {\n",
              "    background-color: #E8F0FE;\n",
              "    border: none;\n",
              "    border-radius: 50%;\n",
              "    cursor: pointer;\n",
              "    display: none;\n",
              "    fill: #1967D2;\n",
              "    height: 32px;\n",
              "    padding: 0 0 0 0;\n",
              "    width: 32px;\n",
              "  }\n",
              "\n",
              "  .colab-df-quickchart:hover {\n",
              "    background-color: #E2EBFA;\n",
              "    box-shadow: 0px 1px 2px rgba(60, 64, 67, 0.3), 0px 1px 3px 1px rgba(60, 64, 67, 0.15);\n",
              "    fill: #174EA6;\n",
              "  }\n",
              "\n",
              "  [theme=dark] .colab-df-quickchart {\n",
              "    background-color: #3B4455;\n",
              "    fill: #D2E3FC;\n",
              "  }\n",
              "\n",
              "  [theme=dark] .colab-df-quickchart:hover {\n",
              "    background-color: #434B5C;\n",
              "    box-shadow: 0px 1px 3px 1px rgba(0, 0, 0, 0.15);\n",
              "    filter: drop-shadow(0px 1px 2px rgba(0, 0, 0, 0.3));\n",
              "    fill: #FFFFFF;\n",
              "  }\n",
              "</style>\n",
              "\n",
              "    <script>\n",
              "      async function quickchart(key) {\n",
              "        const containerElement = document.querySelector('#' + key);\n",
              "        const charts = await google.colab.kernel.invokeFunction(\n",
              "            'suggestCharts', [key], {});\n",
              "      }\n",
              "    </script>\n",
              "\n",
              "      <script>\n",
              "\n",
              "function displayQuickchartButton(domScope) {\n",
              "  let quickchartButtonEl =\n",
              "    domScope.querySelector('#df-24f0cfd3-851c-48c7-bf03-015aa302252f button.colab-df-quickchart');\n",
              "  quickchartButtonEl.style.display =\n",
              "    google.colab.kernel.accessAllowed ? 'block' : 'none';\n",
              "}\n",
              "\n",
              "        displayQuickchartButton(document);\n",
              "      </script>\n",
              "      <style>\n",
              "    .colab-df-container {\n",
              "      display:flex;\n",
              "      flex-wrap:wrap;\n",
              "      gap: 12px;\n",
              "    }\n",
              "\n",
              "    .colab-df-convert {\n",
              "      background-color: #E8F0FE;\n",
              "      border: none;\n",
              "      border-radius: 50%;\n",
              "      cursor: pointer;\n",
              "      display: none;\n",
              "      fill: #1967D2;\n",
              "      height: 32px;\n",
              "      padding: 0 0 0 0;\n",
              "      width: 32px;\n",
              "    }\n",
              "\n",
              "    .colab-df-convert:hover {\n",
              "      background-color: #E2EBFA;\n",
              "      box-shadow: 0px 1px 2px rgba(60, 64, 67, 0.3), 0px 1px 3px 1px rgba(60, 64, 67, 0.15);\n",
              "      fill: #174EA6;\n",
              "    }\n",
              "\n",
              "    [theme=dark] .colab-df-convert {\n",
              "      background-color: #3B4455;\n",
              "      fill: #D2E3FC;\n",
              "    }\n",
              "\n",
              "    [theme=dark] .colab-df-convert:hover {\n",
              "      background-color: #434B5C;\n",
              "      box-shadow: 0px 1px 3px 1px rgba(0, 0, 0, 0.15);\n",
              "      filter: drop-shadow(0px 1px 2px rgba(0, 0, 0, 0.3));\n",
              "      fill: #FFFFFF;\n",
              "    }\n",
              "  </style>\n",
              "\n",
              "      <script>\n",
              "        const buttonEl =\n",
              "          document.querySelector('#df-9b7c0d9e-9f34-41f4-a4e2-ec5ead89f364 button.colab-df-convert');\n",
              "        buttonEl.style.display =\n",
              "          google.colab.kernel.accessAllowed ? 'block' : 'none';\n",
              "\n",
              "        async function convertToInteractive(key) {\n",
              "          const element = document.querySelector('#df-9b7c0d9e-9f34-41f4-a4e2-ec5ead89f364');\n",
              "          const dataTable =\n",
              "            await google.colab.kernel.invokeFunction('convertToInteractive',\n",
              "                                                     [key], {});\n",
              "          if (!dataTable) return;\n",
              "\n",
              "          const docLinkHtml = 'Like what you see? Visit the ' +\n",
              "            '<a target=\"_blank\" href=https://colab.research.google.com/notebooks/data_table.ipynb>data table notebook</a>'\n",
              "            + ' to learn more about interactive tables.';\n",
              "          element.innerHTML = '';\n",
              "          dataTable['output_type'] = 'display_data';\n",
              "          await google.colab.output.renderOutput(dataTable, element);\n",
              "          const docLink = document.createElement('div');\n",
              "          docLink.innerHTML = docLinkHtml;\n",
              "          element.appendChild(docLink);\n",
              "        }\n",
              "      </script>\n",
              "    </div>\n",
              "  </div>\n"
            ]
          },
          "metadata": {},
          "execution_count": 962
        }
      ]
    },
    {
      "cell_type": "code",
      "source": [
        "df.info()"
      ],
      "metadata": {
        "colab": {
          "base_uri": "https://localhost:8080/"
        },
        "id": "RgiJ05F8HS3f",
        "outputId": "b4ed8f19-2540-4338-9194-10d48ad3ba6f"
      },
      "execution_count": 963,
      "outputs": [
        {
          "output_type": "stream",
          "name": "stdout",
          "text": [
            "<class 'pandas.core.frame.DataFrame'>\n",
            "RangeIndex: 50 entries, 0 to 49\n",
            "Data columns (total 8 columns):\n",
            " #   Column    Non-Null Count  Dtype  \n",
            "---  ------    --------------  -----  \n",
            " 0   Title     50 non-null     object \n",
            " 1   Year      50 non-null     object \n",
            " 2   Director  50 non-null     object \n",
            " 3   Genre     50 non-null     object \n",
            " 4   Duration  50 non-null     object \n",
            " 5   Gross     50 non-null     object \n",
            " 6   Votes     50 non-null     object \n",
            " 7   Rating    50 non-null     float64\n",
            "dtypes: float64(1), object(7)\n",
            "memory usage: 3.2+ KB\n"
          ]
        }
      ]
    },
    {
      "cell_type": "code",
      "source": [
        "# Remove () from \"Year\" values\n",
        "df[\"Year\"] = df[\"Year\"].str.replace(\"[()]\", \"\", regex=True)\n",
        "\n",
        "# Change the type of \"Year\"\n",
        "df[\"Year\"] = pd.to_datetime(df[\"Year\"]).dt.year"
      ],
      "metadata": {
        "id": "da19IATUjwe6"
      },
      "execution_count": 964,
      "outputs": []
    },
    {
      "cell_type": "code",
      "source": [
        "# Remove \"$\" and \"M\" from \"Gross\" field\n",
        "df[\"Gross\"] = df[\"Gross\"].str.replace(\"$\", \"\", regex=True)\n",
        "df[\"Gross\"] = df[\"Gross\"].str.replace(\"M\", \"\", regex=True)\n",
        "\n",
        "# Rename \"Gross\" field\n",
        "df = df.rename(columns={\"Gross\": \"Gross ($ millions)\"})\n",
        "\n",
        "# Change the type of \"Gross ($ millions)\"\n",
        "df[\"Gross ($ millions)\"] = df[\"Gross ($ millions)\"].astype(float)"
      ],
      "metadata": {
        "id": "r8i6dH_NMVIt"
      },
      "execution_count": 965,
      "outputs": []
    },
    {
      "cell_type": "code",
      "source": [
        "# Remove \"min\" from \"Duration\" field\n",
        "df[\"Duration\"] = df[\"Duration\"].str.replace(\"min\", \"\")\n",
        "\n",
        "# Rename \"Duration\" field\n",
        "df = df.rename(columns={\"Duration\": \"Duration (min)\"})\n",
        "\n",
        "# Change the type of \"Duration (min)\"\n",
        "df[\"Duration (min)\"] = df[\"Duration (min)\"].astype(int)"
      ],
      "metadata": {
        "id": "WDSkS8m5flar"
      },
      "execution_count": 966,
      "outputs": []
    },
    {
      "cell_type": "code",
      "source": [
        "# Remove \",\" from \"Votes\" field\n",
        "df[\"Votes\"] = df[\"Votes\"].str.replace(\",\", \"\")\n",
        "\n",
        "# Change the type of \"Votes\"\n",
        "df[\"Votes\"] = df[\"Votes\"].astype(int)"
      ],
      "metadata": {
        "id": "F9FP3ythFOqb"
      },
      "execution_count": 967,
      "outputs": []
    },
    {
      "cell_type": "code",
      "source": [
        "df.head()"
      ],
      "metadata": {
        "colab": {
          "base_uri": "https://localhost:8080/",
          "height": 206
        },
        "id": "QU52xOOmNjQX",
        "outputId": "462714c8-5b2c-431a-cd27-0775444637e6"
      },
      "execution_count": 968,
      "outputs": [
        {
          "output_type": "execute_result",
          "data": {
            "text/plain": [
              "                      Title  Year           Director  \\\n",
              "0  The Shawshank Redemption  1994     Frank Darabont   \n",
              "1           The Dark Knight  2008  Christopher Nolan   \n",
              "2                 Inception  2010  Christopher Nolan   \n",
              "3                Fight Club  1999      David Fincher   \n",
              "4              Forrest Gump  1994    Robert Zemeckis   \n",
              "\n",
              "                       Genre  Duration (min)  Gross ($ millions)    Votes  \\\n",
              "0                      Drama             142               28.34  2777598   \n",
              "1       Action, Crime, Drama             152              534.86  2754377   \n",
              "2  Action, Adventure, Sci-Fi             148              292.58  2445084   \n",
              "3                      Drama             139               37.03  2213195   \n",
              "4             Drama, Romance             142              330.25  2160221   \n",
              "\n",
              "   Rating  \n",
              "0     9.3  \n",
              "1     9.0  \n",
              "2     8.8  \n",
              "3     8.8  \n",
              "4     8.8  "
            ],
            "text/html": [
              "\n",
              "\n",
              "  <div id=\"df-912f2405-99f5-4bf7-8673-85b7f5b58b8f\">\n",
              "    <div class=\"colab-df-container\">\n",
              "      <div>\n",
              "<style scoped>\n",
              "    .dataframe tbody tr th:only-of-type {\n",
              "        vertical-align: middle;\n",
              "    }\n",
              "\n",
              "    .dataframe tbody tr th {\n",
              "        vertical-align: top;\n",
              "    }\n",
              "\n",
              "    .dataframe thead th {\n",
              "        text-align: right;\n",
              "    }\n",
              "</style>\n",
              "<table border=\"1\" class=\"dataframe\">\n",
              "  <thead>\n",
              "    <tr style=\"text-align: right;\">\n",
              "      <th></th>\n",
              "      <th>Title</th>\n",
              "      <th>Year</th>\n",
              "      <th>Director</th>\n",
              "      <th>Genre</th>\n",
              "      <th>Duration (min)</th>\n",
              "      <th>Gross ($ millions)</th>\n",
              "      <th>Votes</th>\n",
              "      <th>Rating</th>\n",
              "    </tr>\n",
              "  </thead>\n",
              "  <tbody>\n",
              "    <tr>\n",
              "      <th>0</th>\n",
              "      <td>The Shawshank Redemption</td>\n",
              "      <td>1994</td>\n",
              "      <td>Frank Darabont</td>\n",
              "      <td>Drama</td>\n",
              "      <td>142</td>\n",
              "      <td>28.34</td>\n",
              "      <td>2777598</td>\n",
              "      <td>9.3</td>\n",
              "    </tr>\n",
              "    <tr>\n",
              "      <th>1</th>\n",
              "      <td>The Dark Knight</td>\n",
              "      <td>2008</td>\n",
              "      <td>Christopher Nolan</td>\n",
              "      <td>Action, Crime, Drama</td>\n",
              "      <td>152</td>\n",
              "      <td>534.86</td>\n",
              "      <td>2754377</td>\n",
              "      <td>9.0</td>\n",
              "    </tr>\n",
              "    <tr>\n",
              "      <th>2</th>\n",
              "      <td>Inception</td>\n",
              "      <td>2010</td>\n",
              "      <td>Christopher Nolan</td>\n",
              "      <td>Action, Adventure, Sci-Fi</td>\n",
              "      <td>148</td>\n",
              "      <td>292.58</td>\n",
              "      <td>2445084</td>\n",
              "      <td>8.8</td>\n",
              "    </tr>\n",
              "    <tr>\n",
              "      <th>3</th>\n",
              "      <td>Fight Club</td>\n",
              "      <td>1999</td>\n",
              "      <td>David Fincher</td>\n",
              "      <td>Drama</td>\n",
              "      <td>139</td>\n",
              "      <td>37.03</td>\n",
              "      <td>2213195</td>\n",
              "      <td>8.8</td>\n",
              "    </tr>\n",
              "    <tr>\n",
              "      <th>4</th>\n",
              "      <td>Forrest Gump</td>\n",
              "      <td>1994</td>\n",
              "      <td>Robert Zemeckis</td>\n",
              "      <td>Drama, Romance</td>\n",
              "      <td>142</td>\n",
              "      <td>330.25</td>\n",
              "      <td>2160221</td>\n",
              "      <td>8.8</td>\n",
              "    </tr>\n",
              "  </tbody>\n",
              "</table>\n",
              "</div>\n",
              "      <button class=\"colab-df-convert\" onclick=\"convertToInteractive('df-912f2405-99f5-4bf7-8673-85b7f5b58b8f')\"\n",
              "              title=\"Convert this dataframe to an interactive table.\"\n",
              "              style=\"display:none;\">\n",
              "\n",
              "  <svg xmlns=\"http://www.w3.org/2000/svg\" height=\"24px\"viewBox=\"0 0 24 24\"\n",
              "       width=\"24px\">\n",
              "    <path d=\"M0 0h24v24H0V0z\" fill=\"none\"/>\n",
              "    <path d=\"M18.56 5.44l.94 2.06.94-2.06 2.06-.94-2.06-.94-.94-2.06-.94 2.06-2.06.94zm-11 1L8.5 8.5l.94-2.06 2.06-.94-2.06-.94L8.5 2.5l-.94 2.06-2.06.94zm10 10l.94 2.06.94-2.06 2.06-.94-2.06-.94-.94-2.06-.94 2.06-2.06.94z\"/><path d=\"M17.41 7.96l-1.37-1.37c-.4-.4-.92-.59-1.43-.59-.52 0-1.04.2-1.43.59L10.3 9.45l-7.72 7.72c-.78.78-.78 2.05 0 2.83L4 21.41c.39.39.9.59 1.41.59.51 0 1.02-.2 1.41-.59l7.78-7.78 2.81-2.81c.8-.78.8-2.07 0-2.86zM5.41 20L4 18.59l7.72-7.72 1.47 1.35L5.41 20z\"/>\n",
              "  </svg>\n",
              "      </button>\n",
              "\n",
              "\n",
              "\n",
              "    <div id=\"df-a14bb9b4-7a97-4965-a9d4-0257dc1ec41d\">\n",
              "      <button class=\"colab-df-quickchart\" onclick=\"quickchart('df-a14bb9b4-7a97-4965-a9d4-0257dc1ec41d')\"\n",
              "              title=\"Suggest charts.\"\n",
              "              style=\"display:none;\">\n",
              "\n",
              "<svg xmlns=\"http://www.w3.org/2000/svg\" height=\"24px\"viewBox=\"0 0 24 24\"\n",
              "     width=\"24px\">\n",
              "    <g>\n",
              "        <path d=\"M19 3H5c-1.1 0-2 .9-2 2v14c0 1.1.9 2 2 2h14c1.1 0 2-.9 2-2V5c0-1.1-.9-2-2-2zM9 17H7v-7h2v7zm4 0h-2V7h2v10zm4 0h-2v-4h2v4z\"/>\n",
              "    </g>\n",
              "</svg>\n",
              "      </button>\n",
              "    </div>\n",
              "\n",
              "<style>\n",
              "  .colab-df-quickchart {\n",
              "    background-color: #E8F0FE;\n",
              "    border: none;\n",
              "    border-radius: 50%;\n",
              "    cursor: pointer;\n",
              "    display: none;\n",
              "    fill: #1967D2;\n",
              "    height: 32px;\n",
              "    padding: 0 0 0 0;\n",
              "    width: 32px;\n",
              "  }\n",
              "\n",
              "  .colab-df-quickchart:hover {\n",
              "    background-color: #E2EBFA;\n",
              "    box-shadow: 0px 1px 2px rgba(60, 64, 67, 0.3), 0px 1px 3px 1px rgba(60, 64, 67, 0.15);\n",
              "    fill: #174EA6;\n",
              "  }\n",
              "\n",
              "  [theme=dark] .colab-df-quickchart {\n",
              "    background-color: #3B4455;\n",
              "    fill: #D2E3FC;\n",
              "  }\n",
              "\n",
              "  [theme=dark] .colab-df-quickchart:hover {\n",
              "    background-color: #434B5C;\n",
              "    box-shadow: 0px 1px 3px 1px rgba(0, 0, 0, 0.15);\n",
              "    filter: drop-shadow(0px 1px 2px rgba(0, 0, 0, 0.3));\n",
              "    fill: #FFFFFF;\n",
              "  }\n",
              "</style>\n",
              "\n",
              "    <script>\n",
              "      async function quickchart(key) {\n",
              "        const containerElement = document.querySelector('#' + key);\n",
              "        const charts = await google.colab.kernel.invokeFunction(\n",
              "            'suggestCharts', [key], {});\n",
              "      }\n",
              "    </script>\n",
              "\n",
              "      <script>\n",
              "\n",
              "function displayQuickchartButton(domScope) {\n",
              "  let quickchartButtonEl =\n",
              "    domScope.querySelector('#df-a14bb9b4-7a97-4965-a9d4-0257dc1ec41d button.colab-df-quickchart');\n",
              "  quickchartButtonEl.style.display =\n",
              "    google.colab.kernel.accessAllowed ? 'block' : 'none';\n",
              "}\n",
              "\n",
              "        displayQuickchartButton(document);\n",
              "      </script>\n",
              "      <style>\n",
              "    .colab-df-container {\n",
              "      display:flex;\n",
              "      flex-wrap:wrap;\n",
              "      gap: 12px;\n",
              "    }\n",
              "\n",
              "    .colab-df-convert {\n",
              "      background-color: #E8F0FE;\n",
              "      border: none;\n",
              "      border-radius: 50%;\n",
              "      cursor: pointer;\n",
              "      display: none;\n",
              "      fill: #1967D2;\n",
              "      height: 32px;\n",
              "      padding: 0 0 0 0;\n",
              "      width: 32px;\n",
              "    }\n",
              "\n",
              "    .colab-df-convert:hover {\n",
              "      background-color: #E2EBFA;\n",
              "      box-shadow: 0px 1px 2px rgba(60, 64, 67, 0.3), 0px 1px 3px 1px rgba(60, 64, 67, 0.15);\n",
              "      fill: #174EA6;\n",
              "    }\n",
              "\n",
              "    [theme=dark] .colab-df-convert {\n",
              "      background-color: #3B4455;\n",
              "      fill: #D2E3FC;\n",
              "    }\n",
              "\n",
              "    [theme=dark] .colab-df-convert:hover {\n",
              "      background-color: #434B5C;\n",
              "      box-shadow: 0px 1px 3px 1px rgba(0, 0, 0, 0.15);\n",
              "      filter: drop-shadow(0px 1px 2px rgba(0, 0, 0, 0.3));\n",
              "      fill: #FFFFFF;\n",
              "    }\n",
              "  </style>\n",
              "\n",
              "      <script>\n",
              "        const buttonEl =\n",
              "          document.querySelector('#df-912f2405-99f5-4bf7-8673-85b7f5b58b8f button.colab-df-convert');\n",
              "        buttonEl.style.display =\n",
              "          google.colab.kernel.accessAllowed ? 'block' : 'none';\n",
              "\n",
              "        async function convertToInteractive(key) {\n",
              "          const element = document.querySelector('#df-912f2405-99f5-4bf7-8673-85b7f5b58b8f');\n",
              "          const dataTable =\n",
              "            await google.colab.kernel.invokeFunction('convertToInteractive',\n",
              "                                                     [key], {});\n",
              "          if (!dataTable) return;\n",
              "\n",
              "          const docLinkHtml = 'Like what you see? Visit the ' +\n",
              "            '<a target=\"_blank\" href=https://colab.research.google.com/notebooks/data_table.ipynb>data table notebook</a>'\n",
              "            + ' to learn more about interactive tables.';\n",
              "          element.innerHTML = '';\n",
              "          dataTable['output_type'] = 'display_data';\n",
              "          await google.colab.output.renderOutput(dataTable, element);\n",
              "          const docLink = document.createElement('div');\n",
              "          docLink.innerHTML = docLinkHtml;\n",
              "          element.appendChild(docLink);\n",
              "        }\n",
              "      </script>\n",
              "    </div>\n",
              "  </div>\n"
            ]
          },
          "metadata": {},
          "execution_count": 968
        }
      ]
    },
    {
      "cell_type": "code",
      "source": [
        "df.info()"
      ],
      "metadata": {
        "colab": {
          "base_uri": "https://localhost:8080/"
        },
        "id": "S6va1l3HQwbl",
        "outputId": "b158aab5-36e0-4c4b-8d56-ded4e9edaabd"
      },
      "execution_count": 969,
      "outputs": [
        {
          "output_type": "stream",
          "name": "stdout",
          "text": [
            "<class 'pandas.core.frame.DataFrame'>\n",
            "RangeIndex: 50 entries, 0 to 49\n",
            "Data columns (total 8 columns):\n",
            " #   Column              Non-Null Count  Dtype  \n",
            "---  ------              --------------  -----  \n",
            " 0   Title               50 non-null     object \n",
            " 1   Year                50 non-null     int64  \n",
            " 2   Director            50 non-null     object \n",
            " 3   Genre               50 non-null     object \n",
            " 4   Duration (min)      50 non-null     int64  \n",
            " 5   Gross ($ millions)  50 non-null     float64\n",
            " 6   Votes               50 non-null     int64  \n",
            " 7   Rating              50 non-null     float64\n",
            "dtypes: float64(2), int64(3), object(3)\n",
            "memory usage: 3.2+ KB\n"
          ]
        }
      ]
    },
    {
      "cell_type": "markdown",
      "source": [],
      "metadata": {
        "id": "Cx4UPbFVx6mZ"
      }
    },
    {
      "cell_type": "code",
      "source": [
        "# Save the cleaned dataset\n",
        "df.to_csv(\"Top_votes_movies_cleaned.csv\")"
      ],
      "metadata": {
        "id": "g4sjZuexPSzO"
      },
      "execution_count": 970,
      "outputs": []
    },
    {
      "cell_type": "markdown",
      "source": [
        "# **Dataset analysis**"
      ],
      "metadata": {
        "id": "E1IG9fPBx1tQ"
      }
    },
    {
      "cell_type": "markdown",
      "source": [
        "### 1. Which director has the highest number of movies in this dataset?"
      ],
      "metadata": {
        "id": "XQMGq68Q2YxE"
      }
    },
    {
      "cell_type": "code",
      "source": [
        "# Group by director\n",
        "df_director = df.groupby(\"Director\")[\"Title\"].count()\n",
        "\n",
        "# Find the director with the highest number of movies in the top 50\n",
        "max_movies_director = df_director.idxmax()\n",
        "print(max_movies_director, \"has the highest number of movies in the top 50 movies.\")"
      ],
      "metadata": {
        "colab": {
          "base_uri": "https://localhost:8080/"
        },
        "id": "3HF5p1XO3gvq",
        "outputId": "35c7447c-bb9b-42ff-aafb-3b09b08025fa"
      },
      "execution_count": 971,
      "outputs": [
        {
          "output_type": "stream",
          "name": "stdout",
          "text": [
            "Christopher Nolan has the highest number of movies in the top 50 movies.\n"
          ]
        }
      ]
    },
    {
      "cell_type": "markdown",
      "source": [
        "### 2. Which genre has the highest rating?"
      ],
      "metadata": {
        "id": "RlhAs98T510i"
      }
    },
    {
      "cell_type": "code",
      "source": [
        "# Split the row where there are several genres\n",
        "\n",
        "split_genre = [] # Create an empty list\n",
        "for index, row in df.iterrows(): # Iterate through each row in df\n",
        "    # Get the \"Genre\" and \"Rating\" values\n",
        "    genre = row[\"Genre\"]\n",
        "    rating = row[\"Rating\"]\n",
        "    for genre in genre.split(\", \"):  # Split the \"Genre\" by comma and space to get individual genres\n",
        "        # Create a tuple with the individual genre and the corresponding rating and append it to the \"split_genres\" list\n",
        "        split_genre.append((genre, rating))\n",
        "\n",
        "print(split_genre)"
      ],
      "metadata": {
        "colab": {
          "base_uri": "https://localhost:8080/"
        },
        "id": "y05QqWXUKaak",
        "outputId": "62e2e56e-e95b-4150-de17-36ae8aab92dc"
      },
      "execution_count": 972,
      "outputs": [
        {
          "output_type": "stream",
          "name": "stdout",
          "text": [
            "[('Drama', 9.3), ('Action', 9.0), ('Crime', 9.0), ('Drama', 9.0), ('Action', 8.8), ('Adventure', 8.8), ('Sci-Fi', 8.8), ('Drama', 8.8), ('Drama', 8.8), ('Romance', 8.8), ('Crime', 8.9), ('Drama', 8.9), ('Action', 8.7), ('Sci-Fi', 8.7), ('Crime', 9.2), ('Drama', 9.2), ('Action', 8.8), ('Adventure', 8.8), ('Drama', 8.8), ('Action', 9.0), ('Adventure', 9.0), ('Drama', 9.0), ('Action', 8.4), ('Drama', 8.4), ('Thriller', 8.4), ('Crime', 8.6), ('Drama', 8.6), ('Mystery', 8.6), ('Action', 8.8), ('Adventure', 8.8), ('Drama', 8.8), ('Drama', 8.4), ('Western', 8.4), ('Action', 8.5), ('Adventure', 8.5), ('Drama', 8.5), ('Action', 8.2), ('Crime', 8.2), ('Drama', 8.2), ('Adventure', 8.3), ('Drama', 8.3), ('War', 8.3), ('Crime', 8.6), ('Drama', 8.6), ('Thriller', 8.6), ('Drama', 8.6), ('War', 8.6), ('Action', 8.0), ('Sci-Fi', 8.0), ('Action', 8.6), ('Adventure', 8.6), ('Fantasy', 8.6), ('Biography', 9.0), ('Drama', 9.0), ('History', 9.0), ('Drama', 8.5), ('Mystery', 8.5), ('Sci-Fi', 8.5), ('Mystery', 8.2), ('Thriller', 8.2), ('Crime', 8.5), ('Drama', 8.5), ('Thriller', 8.5), ('Action', 7.9), ('Adventure', 7.9), ('Fantasy', 7.9), ('Crime', 8.6), ('Drama', 8.6), ('Fantasy', 8.6), ('Action', 8.7), ('Adventure', 8.7), ('Fantasy', 8.7), ('Crime', 9.0), ('Drama', 9.0), ('Mystery', 8.4), ('Thriller', 8.4), ('Adventure', 8.5), ('Comedy', 8.5), ('Sci-Fi', 8.5), ('Drama', 7.9), ('Romance', 7.9), ('Biography', 8.7), ('Crime', 8.7), ('Drama', 8.7), ('Action', 8.5), ('Crime', 8.5), ('Drama', 8.5), ('Drama', 8.3), ('Action', 8.1), ('Adventure', 8.1), ('Fantasy', 8.1), ('Animation', 8.4), ('Adventure', 8.4), ('Family', 8.4), ('Crime', 8.5), ('Drama', 8.5), ('Action', 8.2), ('Crime', 8.2), ('Thriller', 8.2), ('Action', 8.2), ('Drama', 8.2), ('Sci-Fi', 8.2), ('Action', 8.6), ('Sci-Fi', 8.6), ('Comedy', 8.2), ('Drama', 8.2), ('Crime', 8.5), ('Drama', 8.5), ('Mystery', 8.5), ('Animation', 8.5), ('Adventure', 8.5), ('Drama', 8.5), ('Action', 7.9), ('Adventure', 7.9), ('Sci-Fi', 7.9), ('Action', 8.3), ('Adventure', 8.3), ('Fantasy', 8.3), ('Animation', 8.3), ('Adventure', 8.3), ('Comedy', 8.3), ('Animation', 8.2), ('Adventure', 8.2), ('Comedy', 8.2), ('Biography', 8.3), ('Drama', 8.3), ('History', 8.3), ('Drama', 8.4), ('Horror', 8.4)]\n"
          ]
        }
      ]
    },
    {
      "cell_type": "code",
      "source": [
        "# Create a dataframe with the genre and the corresponding rating\n",
        "df_genre_rating = pd.DataFrame(split_genre, columns=[\"Genre\", \"Rating\"])\n",
        "\n",
        "# Group by genre\n",
        "df_genre_rating = df_genre_rating.groupby(\"Genre\")[\"Rating\"].mean()\n",
        "\n",
        "# Find the genre with the highest rating\n",
        "max_rating = df_genre_rating.idxmax()\n",
        "\n",
        "print(max_rating, \"genre has the highest rating among the top 50 movies.\")"
      ],
      "metadata": {
        "colab": {
          "base_uri": "https://localhost:8080/"
        },
        "id": "OpRfVleSNBG1",
        "outputId": "4348961a-e740-41f7-81f5-b36d1f7615a3"
      },
      "execution_count": 973,
      "outputs": [
        {
          "output_type": "stream",
          "name": "stdout",
          "text": [
            "Biography genre has the highest rating among the top 50 movies.\n"
          ]
        }
      ]
    },
    {
      "cell_type": "markdown",
      "source": [
        "### 3. What is the gross expenditure of the lowest-rated movies as compared with the highest-rated ones?"
      ],
      "metadata": {
        "id": "OLEjHCAWPsjV"
      }
    },
    {
      "cell_type": "code",
      "source": [
        "# Group by rating\n",
        "df_rating_gross = df.groupby(\"Rating\")[\"Gross ($ millions)\"].mean()\n",
        "\n",
        "# Create a dataframe and reset index\n",
        "df_rating_gross = pd.DataFrame(df_rating_gross)\n",
        "df_rating_gross.reset_index(inplace=True)\n",
        "\n",
        "# Sort the dataframe in ascending order based on the \"Rating\" column\n",
        "df_rating_gross_sorted = df_rating_gross.sort_values(by=\"Rating\")\n",
        "\n",
        "# Get the first row, which corresponds to the lowest-rated movie's gross expenditure\n",
        "lowest_rated_movie_gross = df_rating_gross_sorted.iloc[0][\"Gross ($ millions)\"]\n",
        "print(\"The gross expenditure for the lowest-rated movie in the top 50 movies is $\" + str(round(lowest_rated_movie_gross, 3)), \"M.\")\n",
        "\n",
        "# Get the last row, which corresponds to the highest-rated movie's gross expenditure\n",
        "highest_rated_movie_gross = df_rating_gross_sorted.iloc[-1][\"Gross ($ millions)\"]\n",
        "print(\"The gross expenditure for the highest-rated movie in the top 50 movies is $\" + str(round(highest_rated_movie_gross, 3)), \"M.\")"
      ],
      "metadata": {
        "colab": {
          "base_uri": "https://localhost:8080/"
        },
        "id": "AFwGjWA8QAd5",
        "outputId": "354af705-dbee-4fcc-99d9-fdd4e144d07f"
      },
      "execution_count": 974,
      "outputs": [
        {
          "output_type": "stream",
          "name": "stdout",
          "text": [
            "The gross expenditure for the lowest-rated movie in the top 50 movies is $579.417 M.\n",
            "The gross expenditure for the highest-rated movie in the top 50 movies is $28.34 M.\n"
          ]
        }
      ]
    },
    {
      "cell_type": "markdown",
      "source": [
        "We can see that the lowest-rated movie surprisingly had a significantly higher gross expenditure than the highest-rated movie.\n",
        "To better understand the distribution of ratings and their corresponding gross expenditures, we can visualise all the rating values and compare them against their respective gross expenditure using a bar plot."
      ],
      "metadata": {
        "id": "cgmJg2xV7ATy"
      }
    },
    {
      "cell_type": "code",
      "source": [
        "# Visualisation of the rating and gross\n",
        "\n",
        "# Create the bar plot using Seaborn\n",
        "sns.barplot(x=df_rating_gross[\"Rating\"], y=df_rating_gross[\"Gross ($ millions)\"], palette=\"viridis\")\n",
        "plt.xlabel(\"Rating\")\n",
        "plt.ylabel(\"Gross ($ millions)\")\n",
        "plt.title(\"Analysing Movie Ratings and Gross Expenditure Relationship\")"
      ],
      "metadata": {
        "colab": {
          "base_uri": "https://localhost:8080/",
          "height": 489
        },
        "id": "5P5rpRAwP1mh",
        "outputId": "5e58ff33-4679-4558-8248-55675c9621b1"
      },
      "execution_count": 975,
      "outputs": [
        {
          "output_type": "execute_result",
          "data": {
            "text/plain": [
              "Text(0.5, 1.0, 'Analysing Movie Ratings and Gross Expenditure Relationship')"
            ]
          },
          "metadata": {},
          "execution_count": 975
        },
        {
          "output_type": "display_data",
          "data": {
            "text/plain": [
              "<Figure size 640x480 with 1 Axes>"
            ],
            "image/png": "[encoded data removed]"
          },
          "metadata": {}
        }
      ]
    },
    {
      "cell_type": "markdown",
      "source": [
        "Upon initial observation, we can see that higher movie gross don't guarantee a higher rating and there must be other factors which influence a movie's rating. The visual representation provides valuable insights into the complex relationship between gross expenditure and rating, encouraging further investigation into the diverse elements contributing to a movie's overall success and audience reception."
      ],
      "metadata": {
        "id": "Sn74YItz9Pbo"
      }
    },
    {
      "cell_type": "markdown",
      "source": [
        "### 4. What is the gross expenditure of the movies with the least votes as compared with the most votes ones?"
      ],
      "metadata": {
        "id": "ZOy4FsR3ahLa"
      }
    },
    {
      "cell_type": "code",
      "source": [
        "# Group by number of votes\n",
        "df_votes_gross = df.groupby(\"Votes\")[\"Gross ($ millions)\"].mean()\n",
        "\n",
        "# Create a dataframe and reset index\n",
        "df_votes_gross = pd.DataFrame(df_votes_gross)\n",
        "df_votes_gross.reset_index(inplace=True)\n",
        "\n",
        "# Sort the dataframe in ascending order based on the \"Votes\" column\n",
        "df_votes_gross_sorted = df_votes_gross.sort_values(by=\"Votes\")\n",
        "\n",
        "# Get the first row, which corresponds to the gross expenditure for the movie which has the lowest number of votes\n",
        "lowest_votes_movie_gross = df_votes_gross_sorted.iloc[0][\"Gross ($ millions)\"]\n",
        "print(\"The gross expenditure for the the movie which has the lowest number of votes in the top 50 movies is $\" + str(round(lowest_votes_movie_gross, 3)), \"M.\")\n",
        "\n",
        "# Get the last row, which corresponds to the gross expenditure for the movie which has the highest number of votes\n",
        "highest_votes_movie_gross = df_votes_gross_sorted.iloc[-1][\"Gross ($ millions)\"]\n",
        "print(\"The gross expenditure for the the movie which has the highest number of votes in the top 50 movies is $\" + str(round(highest_votes_movie_gross, 3)), \"M.\")\n"
      ],
      "metadata": {
        "colab": {
          "base_uri": "https://localhost:8080/"
        },
        "id": "IEOEByWeIyjW",
        "outputId": "34bd600c-6169-4f97-e7ec-92b593461e67"
      },
      "execution_count": 976,
      "outputs": [
        {
          "output_type": "stream",
          "name": "stdout",
          "text": [
            "The gross expenditure for the the movie which has the lowest number of votes in the top 50 movies is $44.02 M.\n",
            "The gross expenditure for the the movie which has the highest number of votes in the top 50 movies is $28.34 M.\n"
          ]
        }
      ]
    },
    {
      "cell_type": "code",
      "source": [
        "# Smallest and biggest numbers of votes\n",
        "print(df[\"Votes\"].iloc[-1])\n",
        "print(df[\"Votes\"].iloc[0])"
      ],
      "metadata": {
        "colab": {
          "base_uri": "https://localhost:8080/"
        },
        "id": "MhE0BOFhN93O",
        "outputId": "8d765122-6c05-4965-819d-8eb09a24412a"
      },
      "execution_count": 977,
      "outputs": [
        {
          "output_type": "stream",
          "name": "stdout",
          "text": [
            "1060699\n",
            "2777598\n"
          ]
        }
      ]
    },
    {
      "cell_type": "code",
      "source": [
        "# Create a new field \"Votes group\" which represents the group of number of votes\n",
        "votes_group = []\n",
        "for num in df[\"Votes\"]:\n",
        "    lower_bound = (num// 500000) * 500000  # Calculate the lower bound of the age group\n",
        "    upper_bound = lower_bound + 500000  # Calculate the upper bound of the age group\n",
        "    votes_group.append(f\"{lower_bound/1000000}M - {upper_bound/1000000}M\")\n",
        "\n",
        "df[\"Votes group\"] = votes_group"
      ],
      "metadata": {
        "id": "va0gvZKAOjyF"
      },
      "execution_count": 978,
      "outputs": []
    },
    {
      "cell_type": "code",
      "source": [
        "df.head()"
      ],
      "metadata": {
        "colab": {
          "base_uri": "https://localhost:8080/",
          "height": 206
        },
        "id": "gKploV8lVtfB",
        "outputId": "a66ca6c2-6d3b-485b-c0e5-3f5ee31b5f6a"
      },
      "execution_count": 979,
      "outputs": [
        {
          "output_type": "execute_result",
          "data": {
            "text/plain": [
              "                      Title  Year           Director  \\\n",
              "0  The Shawshank Redemption  1994     Frank Darabont   \n",
              "1           The Dark Knight  2008  Christopher Nolan   \n",
              "2                 Inception  2010  Christopher Nolan   \n",
              "3                Fight Club  1999      David Fincher   \n",
              "4              Forrest Gump  1994    Robert Zemeckis   \n",
              "\n",
              "                       Genre  Duration (min)  Gross ($ millions)    Votes  \\\n",
              "0                      Drama             142               28.34  2777598   \n",
              "1       Action, Crime, Drama             152              534.86  2754377   \n",
              "2  Action, Adventure, Sci-Fi             148              292.58  2445084   \n",
              "3                      Drama             139               37.03  2213195   \n",
              "4             Drama, Romance             142              330.25  2160221   \n",
              "\n",
              "   Rating  Votes group  \n",
              "0     9.3  2.5M - 3.0M  \n",
              "1     9.0  2.5M - 3.0M  \n",
              "2     8.8  2.0M - 2.5M  \n",
              "3     8.8  2.0M - 2.5M  \n",
              "4     8.8  2.0M - 2.5M  "
            ],
            "text/html": [
              "\n",
              "\n",
              "  <div id=\"df-e372a2aa-8ad0-4b4d-8953-9f84f4c2a594\">\n",
              "    <div class=\"colab-df-container\">\n",
              "      <div>\n",
              "<style scoped>\n",
              "    .dataframe tbody tr th:only-of-type {\n",
              "        vertical-align: middle;\n",
              "    }\n",
              "\n",
              "    .dataframe tbody tr th {\n",
              "        vertical-align: top;\n",
              "    }\n",
              "\n",
              "    .dataframe thead th {\n",
              "        text-align: right;\n",
              "    }\n",
              "</style>\n",
              "<table border=\"1\" class=\"dataframe\">\n",
              "  <thead>\n",
              "    <tr style=\"text-align: right;\">\n",
              "      <th></th>\n",
              "      <th>Title</th>\n",
              "      <th>Year</th>\n",
              "      <th>Director</th>\n",
              "      <th>Genre</th>\n",
              "      <th>Duration (min)</th>\n",
              "      <th>Gross ($ millions)</th>\n",
              "      <th>Votes</th>\n",
              "      <th>Rating</th>\n",
              "      <th>Votes group</th>\n",
              "    </tr>\n",
              "  </thead>\n",
              "  <tbody>\n",
              "    <tr>\n",
              "      <th>0</th>\n",
              "      <td>The Shawshank Redemption</td>\n",
              "      <td>1994</td>\n",
              "      <td>Frank Darabont</td>\n",
              "      <td>Drama</td>\n",
              "      <td>142</td>\n",
              "      <td>28.34</td>\n",
              "      <td>2777598</td>\n",
              "      <td>9.3</td>\n",
              "      <td>2.5M - 3.0M</td>\n",
              "    </tr>\n",
              "    <tr>\n",
              "      <th>1</th>\n",
              "      <td>The Dark Knight</td>\n",
              "      <td>2008</td>\n",
              "      <td>Christopher Nolan</td>\n",
              "      <td>Action, Crime, Drama</td>\n",
              "      <td>152</td>\n",
              "      <td>534.86</td>\n",
              "      <td>2754377</td>\n",
              "      <td>9.0</td>\n",
              "      <td>2.5M - 3.0M</td>\n",
              "    </tr>\n",
              "    <tr>\n",
              "      <th>2</th>\n",
              "      <td>Inception</td>\n",
              "      <td>2010</td>\n",
              "      <td>Christopher Nolan</td>\n",
              "      <td>Action, Adventure, Sci-Fi</td>\n",
              "      <td>148</td>\n",
              "      <td>292.58</td>\n",
              "      <td>2445084</td>\n",
              "      <td>8.8</td>\n",
              "      <td>2.0M - 2.5M</td>\n",
              "    </tr>\n",
              "    <tr>\n",
              "      <th>3</th>\n",
              "      <td>Fight Club</td>\n",
              "      <td>1999</td>\n",
              "      <td>David Fincher</td>\n",
              "      <td>Drama</td>\n",
              "      <td>139</td>\n",
              "      <td>37.03</td>\n",
              "      <td>2213195</td>\n",
              "      <td>8.8</td>\n",
              "      <td>2.0M - 2.5M</td>\n",
              "    </tr>\n",
              "    <tr>\n",
              "      <th>4</th>\n",
              "      <td>Forrest Gump</td>\n",
              "      <td>1994</td>\n",
              "      <td>Robert Zemeckis</td>\n",
              "      <td>Drama, Romance</td>\n",
              "      <td>142</td>\n",
              "      <td>330.25</td>\n",
              "      <td>2160221</td>\n",
              "      <td>8.8</td>\n",
              "      <td>2.0M - 2.5M</td>\n",
              "    </tr>\n",
              "  </tbody>\n",
              "</table>\n",
              "</div>\n",
              "      <button class=\"colab-df-convert\" onclick=\"convertToInteractive('df-e372a2aa-8ad0-4b4d-8953-9f84f4c2a594')\"\n",
              "              title=\"Convert this dataframe to an interactive table.\"\n",
              "              style=\"display:none;\">\n",
              "\n",
              "  <svg xmlns=\"http://www.w3.org/2000/svg\" height=\"24px\"viewBox=\"0 0 24 24\"\n",
              "       width=\"24px\">\n",
              "    <path d=\"M0 0h24v24H0V0z\" fill=\"none\"/>\n",
              "    <path d=\"M18.56 5.44l.94 2.06.94-2.06 2.06-.94-2.06-.94-.94-2.06-.94 2.06-2.06.94zm-11 1L8.5 8.5l.94-2.06 2.06-.94-2.06-.94L8.5 2.5l-.94 2.06-2.06.94zm10 10l.94 2.06.94-2.06 2.06-.94-2.06-.94-.94-2.06-.94 2.06-2.06.94z\"/><path d=\"M17.41 7.96l-1.37-1.37c-.4-.4-.92-.59-1.43-.59-.52 0-1.04.2-1.43.59L10.3 9.45l-7.72 7.72c-.78.78-.78 2.05 0 2.83L4 21.41c.39.39.9.59 1.41.59.51 0 1.02-.2 1.41-.59l7.78-7.78 2.81-2.81c.8-.78.8-2.07 0-2.86zM5.41 20L4 18.59l7.72-7.72 1.47 1.35L5.41 20z\"/>\n",
              "  </svg>\n",
              "      </button>\n",
              "\n",
              "\n",
              "\n",
              "    <div id=\"df-5f42c9eb-5bdb-4d38-afe6-4d6a6fca2dbe\">\n",
              "      <button class=\"colab-df-quickchart\" onclick=\"quickchart('df-5f42c9eb-5bdb-4d38-afe6-4d6a6fca2dbe')\"\n",
              "              title=\"Suggest charts.\"\n",
              "              style=\"display:none;\">\n",
              "\n",
              "<svg xmlns=\"http://www.w3.org/2000/svg\" height=\"24px\"viewBox=\"0 0 24 24\"\n",
              "     width=\"24px\">\n",
              "    <g>\n",
              "        <path d=\"M19 3H5c-1.1 0-2 .9-2 2v14c0 1.1.9 2 2 2h14c1.1 0 2-.9 2-2V5c0-1.1-.9-2-2-2zM9 17H7v-7h2v7zm4 0h-2V7h2v10zm4 0h-2v-4h2v4z\"/>\n",
              "    </g>\n",
              "</svg>\n",
              "      </button>\n",
              "    </div>\n",
              "\n",
              "<style>\n",
              "  .colab-df-quickchart {\n",
              "    background-color: #E8F0FE;\n",
              "    border: none;\n",
              "    border-radius: 50%;\n",
              "    cursor: pointer;\n",
              "    display: none;\n",
              "    fill: #1967D2;\n",
              "    height: 32px;\n",
              "    padding: 0 0 0 0;\n",
              "    width: 32px;\n",
              "  }\n",
              "\n",
              "  .colab-df-quickchart:hover {\n",
              "    background-color: #E2EBFA;\n",
              "    box-shadow: 0px 1px 2px rgba(60, 64, 67, 0.3), 0px 1px 3px 1px rgba(60, 64, 67, 0.15);\n",
              "    fill: #174EA6;\n",
              "  }\n",
              "\n",
              "  [theme=dark] .colab-df-quickchart {\n",
              "    background-color: #3B4455;\n",
              "    fill: #D2E3FC;\n",
              "  }\n",
              "\n",
              "  [theme=dark] .colab-df-quickchart:hover {\n",
              "    background-color: #434B5C;\n",
              "    box-shadow: 0px 1px 3px 1px rgba(0, 0, 0, 0.15);\n",
              "    filter: drop-shadow(0px 1px 2px rgba(0, 0, 0, 0.3));\n",
              "    fill: #FFFFFF;\n",
              "  }\n",
              "</style>\n",
              "\n",
              "    <script>\n",
              "      async function quickchart(key) {\n",
              "        const containerElement = document.querySelector('#' + key);\n",
              "        const charts = await google.colab.kernel.invokeFunction(\n",
              "            'suggestCharts', [key], {});\n",
              "      }\n",
              "    </script>\n",
              "\n",
              "      <script>\n",
              "\n",
              "function displayQuickchartButton(domScope) {\n",
              "  let quickchartButtonEl =\n",
              "    domScope.querySelector('#df-5f42c9eb-5bdb-4d38-afe6-4d6a6fca2dbe button.colab-df-quickchart');\n",
              "  quickchartButtonEl.style.display =\n",
              "    google.colab.kernel.accessAllowed ? 'block' : 'none';\n",
              "}\n",
              "\n",
              "        displayQuickchartButton(document);\n",
              "      </script>\n",
              "      <style>\n",
              "    .colab-df-container {\n",
              "      display:flex;\n",
              "      flex-wrap:wrap;\n",
              "      gap: 12px;\n",
              "    }\n",
              "\n",
              "    .colab-df-convert {\n",
              "      background-color: #E8F0FE;\n",
              "      border: none;\n",
              "      border-radius: 50%;\n",
              "      cursor: pointer;\n",
              "      display: none;\n",
              "      fill: #1967D2;\n",
              "      height: 32px;\n",
              "      padding: 0 0 0 0;\n",
              "      width: 32px;\n",
              "    }\n",
              "\n",
              "    .colab-df-convert:hover {\n",
              "      background-color: #E2EBFA;\n",
              "      box-shadow: 0px 1px 2px rgba(60, 64, 67, 0.3), 0px 1px 3px 1px rgba(60, 64, 67, 0.15);\n",
              "      fill: #174EA6;\n",
              "    }\n",
              "\n",
              "    [theme=dark] .colab-df-convert {\n",
              "      background-color: #3B4455;\n",
              "      fill: #D2E3FC;\n",
              "    }\n",
              "\n",
              "    [theme=dark] .colab-df-convert:hover {\n",
              "      background-color: #434B5C;\n",
              "      box-shadow: 0px 1px 3px 1px rgba(0, 0, 0, 0.15);\n",
              "      filter: drop-shadow(0px 1px 2px rgba(0, 0, 0, 0.3));\n",
              "      fill: #FFFFFF;\n",
              "    }\n",
              "  </style>\n",
              "\n",
              "      <script>\n",
              "        const buttonEl =\n",
              "          document.querySelector('#df-e372a2aa-8ad0-4b4d-8953-9f84f4c2a594 button.colab-df-convert');\n",
              "        buttonEl.style.display =\n",
              "          google.colab.kernel.accessAllowed ? 'block' : 'none';\n",
              "\n",
              "        async function convertToInteractive(key) {\n",
              "          const element = document.querySelector('#df-e372a2aa-8ad0-4b4d-8953-9f84f4c2a594');\n",
              "          const dataTable =\n",
              "            await google.colab.kernel.invokeFunction('convertToInteractive',\n",
              "                                                     [key], {});\n",
              "          if (!dataTable) return;\n",
              "\n",
              "          const docLinkHtml = 'Like what you see? Visit the ' +\n",
              "            '<a target=\"_blank\" href=https://colab.research.google.com/notebooks/data_table.ipynb>data table notebook</a>'\n",
              "            + ' to learn more about interactive tables.';\n",
              "          element.innerHTML = '';\n",
              "          dataTable['output_type'] = 'display_data';\n",
              "          await google.colab.output.renderOutput(dataTable, element);\n",
              "          const docLink = document.createElement('div');\n",
              "          docLink.innerHTML = docLinkHtml;\n",
              "          element.appendChild(docLink);\n",
              "        }\n",
              "      </script>\n",
              "    </div>\n",
              "  </div>\n"
            ]
          },
          "metadata": {},
          "execution_count": 979
        }
      ]
    },
    {
      "cell_type": "code",
      "source": [
        "# Visualisation of the number of votes and gross\n",
        "\n",
        "# Group by number of votes\n",
        "df_votes_group_gross = df.groupby(\"Votes group\")[\"Gross ($ millions)\"].mean()\n",
        "\n",
        "df_votes_group_gross = pd.DataFrame(df_votes_group_gross)\n",
        "df_votes_group_gross.reset_index(inplace=True)\n",
        "\n",
        "# Create the bar plot using Seaborn\n",
        "sns.barplot(x=df_votes_group_gross[\"Votes group\"], y=df_votes_group_gross[\"Gross ($ millions)\"], palette=\"viridis\")\n",
        "plt.xlabel(\"Number of votes\")\n",
        "plt.ylabel(\"Gross ($ millions)\")\n",
        "plt.title(\"Analysing Movie Votes and Gross Expenditure Relationship\")"
      ],
      "metadata": {
        "colab": {
          "base_uri": "https://localhost:8080/",
          "height": 489
        },
        "id": "RS0n7oQpKKc4",
        "outputId": "8b24a718-7761-4bf3-a3b3-5ea9f32401dc"
      },
      "execution_count": 980,
      "outputs": [
        {
          "output_type": "execute_result",
          "data": {
            "text/plain": [
              "Text(0.5, 1.0, 'Analysing Movie Votes and Gross Expenditure Relationship')"
            ]
          },
          "metadata": {},
          "execution_count": 980
        },
        {
          "output_type": "display_data",
          "data": {
            "text/plain": [
              "<Figure size 640x480 with 1 Axes>"
            ],
            "image/png": "[encoded data removed]"
          },
          "metadata": {}
        }
      ]
    },
    {
      "cell_type": "markdown",
      "source": [
        "Given this observation, we can see that movies with the most votes have the highest gross expenditure but the movies with a number of votes between 2 and 2.5M have the lowest gross expenditure.\n",
        "There are likely other factors at play, such as the movie's genre, cast or marketing efforts for example.\n",
        "\n",
        "To gain a more comprehensive understanding of the relationship, further analysis and exploration of potential variables are necessary. It's essential to be cautious when interpreting data and avoid making generalisations based on a single plot or observation. Additional statistical analysis and data exploration can provide more insights into the complex dynamics between the number of votes and gross expenditure for movies."
      ],
      "metadata": {
        "id": "Iy7-XaUDYX6g"
      }
    }
  ]
}