{
  "nbformat": 4,
  "nbformat_minor": 0,
  "metadata": {
    "colab": {
      "provenance": []
    },
    "kernelspec": {
      "name": "python3",
      "display_name": "Python 3"
    },
    "language_info": {
      "name": "python"
    }
  },
  "cells": [
    {
      "cell_type": "code",
      "execution_count": 421,
      "metadata": {
        "id": "mjPpQn3dHBOk"
      },
      "outputs": [],
      "source": [
        "import pandas as pd\n",
        "import matplotlib.pyplot as plt\n",
        "import seaborn as sns"
      ]
    },
    {
      "cell_type": "code",
      "source": [
        "df = pd.read_csv(\"Top_movies_rated.csv\")"
      ],
      "metadata": {
        "id": "F9izoz6iHLfR"
      },
      "execution_count": 422,
      "outputs": []
    },
    {
      "cell_type": "markdown",
      "source": [
        "# **Dataset cleaning**"
      ],
      "metadata": {
        "id": "t5zjfbGdxn0J"
      }
    },
    {
      "cell_type": "code",
      "source": [
        "df.head()"
      ],
      "metadata": {
        "colab": {
          "base_uri": "https://localhost:8080/",
          "height": 206
        },
        "id": "8oFN2LcCmJGV",
        "outputId": "eba2f0fc-74ec-4e32-d05d-37eb8ec89e95"
      },
      "execution_count": 423,
      "outputs": [
        {
          "output_type": "execute_result",
          "data": {
            "text/plain": [
              "                      Title    Year           Director  \\\n",
              "0  The Shawshank Redemption  (1994)     Frank Darabont   \n",
              "1           The Dark Knight  (2008)  Christopher Nolan   \n",
              "2                 Inception  (2010)  Christopher Nolan   \n",
              "3                Fight Club  (1999)      David Fincher   \n",
              "4              Forrest Gump  (1994)    Robert Zemeckis   \n",
              "\n",
              "                       Genre Duration     Gross  Rating  \n",
              "0                      Drama  142 min   $28.34M     9.3  \n",
              "1       Action, Crime, Drama  152 min  $534.86M     9.0  \n",
              "2  Action, Adventure, Sci-Fi  148 min  $292.58M     8.8  \n",
              "3                      Drama  139 min   $37.03M     8.8  \n",
              "4             Drama, Romance  142 min  $330.25M     8.8  "
            ],
            "text/html": [
              "\n",
              "\n",
              "  <div id=\"df-1974c34c-f004-43ff-a6df-82c9247145bf\">\n",
              "    <div class=\"colab-df-container\">\n",
              "      <div>\n",
              "<style scoped>\n",
              "    .dataframe tbody tr th:only-of-type {\n",
              "        vertical-align: middle;\n",
              "    }\n",
              "\n",
              "    .dataframe tbody tr th {\n",
              "        vertical-align: top;\n",
              "    }\n",
              "\n",
              "    .dataframe thead th {\n",
              "        text-align: right;\n",
              "    }\n",
              "</style>\n",
              "<table border=\"1\" class=\"dataframe\">\n",
              "  <thead>\n",
              "    <tr style=\"text-align: right;\">\n",
              "      <th></th>\n",
              "      <th>Title</th>\n",
              "      <th>Year</th>\n",
              "      <th>Director</th>\n",
              "      <th>Genre</th>\n",
              "      <th>Duration</th>\n",
              "      <th>Gross</th>\n",
              "      <th>Rating</th>\n",
              "    </tr>\n",
              "  </thead>\n",
              "  <tbody>\n",
              "    <tr>\n",
              "      <th>0</th>\n",
              "      <td>The Shawshank Redemption</td>\n",
              "      <td>(1994)</td>\n",
              "      <td>Frank Darabont</td>\n",
              "      <td>Drama</td>\n",
              "      <td>142 min</td>\n",
              "      <td>$28.34M</td>\n",
              "      <td>9.3</td>\n",
              "    </tr>\n",
              "    <tr>\n",
              "      <th>1</th>\n",
              "      <td>The Dark Knight</td>\n",
              "      <td>(2008)</td>\n",
              "      <td>Christopher Nolan</td>\n",
              "      <td>Action, Crime, Drama</td>\n",
              "      <td>152 min</td>\n",
              "      <td>$534.86M</td>\n",
              "      <td>9.0</td>\n",
              "    </tr>\n",
              "    <tr>\n",
              "      <th>2</th>\n",
              "      <td>Inception</td>\n",
              "      <td>(2010)</td>\n",
              "      <td>Christopher Nolan</td>\n",
              "      <td>Action, Adventure, Sci-Fi</td>\n",
              "      <td>148 min</td>\n",
              "      <td>$292.58M</td>\n",
              "      <td>8.8</td>\n",
              "    </tr>\n",
              "    <tr>\n",
              "      <th>3</th>\n",
              "      <td>Fight Club</td>\n",
              "      <td>(1999)</td>\n",
              "      <td>David Fincher</td>\n",
              "      <td>Drama</td>\n",
              "      <td>139 min</td>\n",
              "      <td>$37.03M</td>\n",
              "      <td>8.8</td>\n",
              "    </tr>\n",
              "    <tr>\n",
              "      <th>4</th>\n",
              "      <td>Forrest Gump</td>\n",
              "      <td>(1994)</td>\n",
              "      <td>Robert Zemeckis</td>\n",
              "      <td>Drama, Romance</td>\n",
              "      <td>142 min</td>\n",
              "      <td>$330.25M</td>\n",
              "      <td>8.8</td>\n",
              "    </tr>\n",
              "  </tbody>\n",
              "</table>\n",
              "</div>\n",
              "      <button class=\"colab-df-convert\" onclick=\"convertToInteractive('df-1974c34c-f004-43ff-a6df-82c9247145bf')\"\n",
              "              title=\"Convert this dataframe to an interactive table.\"\n",
              "              style=\"display:none;\">\n",
              "\n",
              "  <svg xmlns=\"http://www.w3.org/2000/svg\" height=\"24px\"viewBox=\"0 0 24 24\"\n",
              "       width=\"24px\">\n",
              "    <path d=\"M0 0h24v24H0V0z\" fill=\"none\"/>\n",
              "    <path d=\"M18.56 5.44l.94 2.06.94-2.06 2.06-.94-2.06-.94-.94-2.06-.94 2.06-2.06.94zm-11 1L8.5 8.5l.94-2.06 2.06-.94-2.06-.94L8.5 2.5l-.94 2.06-2.06.94zm10 10l.94 2.06.94-2.06 2.06-.94-2.06-.94-.94-2.06-.94 2.06-2.06.94z\"/><path d=\"M17.41 7.96l-1.37-1.37c-.4-.4-.92-.59-1.43-.59-.52 0-1.04.2-1.43.59L10.3 9.45l-7.72 7.72c-.78.78-.78 2.05 0 2.83L4 21.41c.39.39.9.59 1.41.59.51 0 1.02-.2 1.41-.59l7.78-7.78 2.81-2.81c.8-.78.8-2.07 0-2.86zM5.41 20L4 18.59l7.72-7.72 1.47 1.35L5.41 20z\"/>\n",
              "  </svg>\n",
              "      </button>\n",
              "\n",
              "\n",
              "\n",
              "    <div id=\"df-f2545eab-7725-4f49-a958-22d0c31a8f8f\">\n",
              "      <button class=\"colab-df-quickchart\" onclick=\"quickchart('df-f2545eab-7725-4f49-a958-22d0c31a8f8f')\"\n",
              "              title=\"Suggest charts.\"\n",
              "              style=\"display:none;\">\n",
              "\n",
              "<svg xmlns=\"http://www.w3.org/2000/svg\" height=\"24px\"viewBox=\"0 0 24 24\"\n",
              "     width=\"24px\">\n",
              "    <g>\n",
              "        <path d=\"M19 3H5c-1.1 0-2 .9-2 2v14c0 1.1.9 2 2 2h14c1.1 0 2-.9 2-2V5c0-1.1-.9-2-2-2zM9 17H7v-7h2v7zm4 0h-2V7h2v10zm4 0h-2v-4h2v4z\"/>\n",
              "    </g>\n",
              "</svg>\n",
              "      </button>\n",
              "    </div>\n",
              "\n",
              "<style>\n",
              "  .colab-df-quickchart {\n",
              "    background-color: #E8F0FE;\n",
              "    border: none;\n",
              "    border-radius: 50%;\n",
              "    cursor: pointer;\n",
              "    display: none;\n",
              "    fill: #1967D2;\n",
              "    height: 32px;\n",
              "    padding: 0 0 0 0;\n",
              "    width: 32px;\n",
              "  }\n",
              "\n",
              "  .colab-df-quickchart:hover {\n",
              "    background-color: #E2EBFA;\n",
              "    box-shadow: 0px 1px 2px rgba(60, 64, 67, 0.3), 0px 1px 3px 1px rgba(60, 64, 67, 0.15);\n",
              "    fill: #174EA6;\n",
              "  }\n",
              "\n",
              "  [theme=dark] .colab-df-quickchart {\n",
              "    background-color: #3B4455;\n",
              "    fill: #D2E3FC;\n",
              "  }\n",
              "\n",
              "  [theme=dark] .colab-df-quickchart:hover {\n",
              "    background-color: #434B5C;\n",
              "    box-shadow: 0px 1px 3px 1px rgba(0, 0, 0, 0.15);\n",
              "    filter: drop-shadow(0px 1px 2px rgba(0, 0, 0, 0.3));\n",
              "    fill: #FFFFFF;\n",
              "  }\n",
              "</style>\n",
              "\n",
              "    <script>\n",
              "      async function quickchart(key) {\n",
              "        const containerElement = document.querySelector('#' + key);\n",
              "        const charts = await google.colab.kernel.invokeFunction(\n",
              "            'suggestCharts', [key], {});\n",
              "      }\n",
              "    </script>\n",
              "\n",
              "      <script>\n",
              "\n",
              "function displayQuickchartButton(domScope) {\n",
              "  let quickchartButtonEl =\n",
              "    domScope.querySelector('#df-f2545eab-7725-4f49-a958-22d0c31a8f8f button.colab-df-quickchart');\n",
              "  quickchartButtonEl.style.display =\n",
              "    google.colab.kernel.accessAllowed ? 'block' : 'none';\n",
              "}\n",
              "\n",
              "        displayQuickchartButton(document);\n",
              "      </script>\n",
              "      <style>\n",
              "    .colab-df-container {\n",
              "      display:flex;\n",
              "      flex-wrap:wrap;\n",
              "      gap: 12px;\n",
              "    }\n",
              "\n",
              "    .colab-df-convert {\n",
              "      background-color: #E8F0FE;\n",
              "      border: none;\n",
              "      border-radius: 50%;\n",
              "      cursor: pointer;\n",
              "      display: none;\n",
              "      fill: #1967D2;\n",
              "      height: 32px;\n",
              "      padding: 0 0 0 0;\n",
              "      width: 32px;\n",
              "    }\n",
              "\n",
              "    .colab-df-convert:hover {\n",
              "      background-color: #E2EBFA;\n",
              "      box-shadow: 0px 1px 2px rgba(60, 64, 67, 0.3), 0px 1px 3px 1px rgba(60, 64, 67, 0.15);\n",
              "      fill: #174EA6;\n",
              "    }\n",
              "\n",
              "    [theme=dark] .colab-df-convert {\n",
              "      background-color: #3B4455;\n",
              "      fill: #D2E3FC;\n",
              "    }\n",
              "\n",
              "    [theme=dark] .colab-df-convert:hover {\n",
              "      background-color: #434B5C;\n",
              "      box-shadow: 0px 1px 3px 1px rgba(0, 0, 0, 0.15);\n",
              "      filter: drop-shadow(0px 1px 2px rgba(0, 0, 0, 0.3));\n",
              "      fill: #FFFFFF;\n",
              "    }\n",
              "  </style>\n",
              "\n",
              "      <script>\n",
              "        const buttonEl =\n",
              "          document.querySelector('#df-1974c34c-f004-43ff-a6df-82c9247145bf button.colab-df-convert');\n",
              "        buttonEl.style.display =\n",
              "          google.colab.kernel.accessAllowed ? 'block' : 'none';\n",
              "\n",
              "        async function convertToInteractive(key) {\n",
              "          const element = document.querySelector('#df-1974c34c-f004-43ff-a6df-82c9247145bf');\n",
              "          const dataTable =\n",
              "            await google.colab.kernel.invokeFunction('convertToInteractive',\n",
              "                                                     [key], {});\n",
              "          if (!dataTable) return;\n",
              "\n",
              "          const docLinkHtml = 'Like what you see? Visit the ' +\n",
              "            '<a target=\"_blank\" href=https://colab.research.google.com/notebooks/data_table.ipynb>data table notebook</a>'\n",
              "            + ' to learn more about interactive tables.';\n",
              "          element.innerHTML = '';\n",
              "          dataTable['output_type'] = 'display_data';\n",
              "          await google.colab.output.renderOutput(dataTable, element);\n",
              "          const docLink = document.createElement('div');\n",
              "          docLink.innerHTML = docLinkHtml;\n",
              "          element.appendChild(docLink);\n",
              "        }\n",
              "      </script>\n",
              "    </div>\n",
              "  </div>\n"
            ]
          },
          "metadata": {},
          "execution_count": 423
        }
      ]
    },
    {
      "cell_type": "code",
      "source": [
        "df.info()"
      ],
      "metadata": {
        "colab": {
          "base_uri": "https://localhost:8080/"
        },
        "id": "RgiJ05F8HS3f",
        "outputId": "94e2f44e-e113-4afe-c911-721f45c1bc43"
      },
      "execution_count": 424,
      "outputs": [
        {
          "output_type": "stream",
          "name": "stdout",
          "text": [
            "<class 'pandas.core.frame.DataFrame'>\n",
            "RangeIndex: 70 entries, 0 to 69\n",
            "Data columns (total 7 columns):\n",
            " #   Column    Non-Null Count  Dtype  \n",
            "---  ------    --------------  -----  \n",
            " 0   Title     69 non-null     object \n",
            " 1   Year      70 non-null     object \n",
            " 2   Director  70 non-null     object \n",
            " 3   Genre     70 non-null     object \n",
            " 4   Duration  70 non-null     object \n",
            " 5   Gross     70 non-null     object \n",
            " 6   Rating    70 non-null     float64\n",
            "dtypes: float64(1), object(6)\n",
            "memory usage: 4.0+ KB\n"
          ]
        }
      ]
    },
    {
      "cell_type": "code",
      "source": [
        "# Check the null value in \"Title\"\n",
        "null_value = df[df[\"Title\"].isnull()]\n",
        "null_value"
      ],
      "metadata": {
        "colab": {
          "base_uri": "https://localhost:8080/",
          "height": 81
        },
        "id": "GT1wj3o8IdlN",
        "outputId": "5b199d5a-3390-47ba-cc9e-f08a553d91be"
      },
      "execution_count": 425,
      "outputs": [
        {
          "output_type": "execute_result",
          "data": {
            "text/plain": [
              "   Title    Year         Director                      Genre Duration  \\\n",
              "50   NaN  (1985)  Robert Zemeckis  Adventure, Comedy, Sci-Fi  116 min   \n",
              "\n",
              "       Gross  Rating  \n",
              "50  $210.61M     8.5  "
            ],
            "text/html": [
              "\n",
              "\n",
              "  <div id=\"df-a88015e8-be75-45a3-b9b3-2fcf68bce85b\">\n",
              "    <div class=\"colab-df-container\">\n",
              "      <div>\n",
              "<style scoped>\n",
              "    .dataframe tbody tr th:only-of-type {\n",
              "        vertical-align: middle;\n",
              "    }\n",
              "\n",
              "    .dataframe tbody tr th {\n",
              "        vertical-align: top;\n",
              "    }\n",
              "\n",
              "    .dataframe thead th {\n",
              "        text-align: right;\n",
              "    }\n",
              "</style>\n",
              "<table border=\"1\" class=\"dataframe\">\n",
              "  <thead>\n",
              "    <tr style=\"text-align: right;\">\n",
              "      <th></th>\n",
              "      <th>Title</th>\n",
              "      <th>Year</th>\n",
              "      <th>Director</th>\n",
              "      <th>Genre</th>\n",
              "      <th>Duration</th>\n",
              "      <th>Gross</th>\n",
              "      <th>Rating</th>\n",
              "    </tr>\n",
              "  </thead>\n",
              "  <tbody>\n",
              "    <tr>\n",
              "      <th>50</th>\n",
              "      <td>NaN</td>\n",
              "      <td>(1985)</td>\n",
              "      <td>Robert Zemeckis</td>\n",
              "      <td>Adventure, Comedy, Sci-Fi</td>\n",
              "      <td>116 min</td>\n",
              "      <td>$210.61M</td>\n",
              "      <td>8.5</td>\n",
              "    </tr>\n",
              "  </tbody>\n",
              "</table>\n",
              "</div>\n",
              "      <button class=\"colab-df-convert\" onclick=\"convertToInteractive('df-a88015e8-be75-45a3-b9b3-2fcf68bce85b')\"\n",
              "              title=\"Convert this dataframe to an interactive table.\"\n",
              "              style=\"display:none;\">\n",
              "\n",
              "  <svg xmlns=\"http://www.w3.org/2000/svg\" height=\"24px\"viewBox=\"0 0 24 24\"\n",
              "       width=\"24px\">\n",
              "    <path d=\"M0 0h24v24H0V0z\" fill=\"none\"/>\n",
              "    <path d=\"M18.56 5.44l.94 2.06.94-2.06 2.06-.94-2.06-.94-.94-2.06-.94 2.06-2.06.94zm-11 1L8.5 8.5l.94-2.06 2.06-.94-2.06-.94L8.5 2.5l-.94 2.06-2.06.94zm10 10l.94 2.06.94-2.06 2.06-.94-2.06-.94-.94-2.06-.94 2.06-2.06.94z\"/><path d=\"M17.41 7.96l-1.37-1.37c-.4-.4-.92-.59-1.43-.59-.52 0-1.04.2-1.43.59L10.3 9.45l-7.72 7.72c-.78.78-.78 2.05 0 2.83L4 21.41c.39.39.9.59 1.41.59.51 0 1.02-.2 1.41-.59l7.78-7.78 2.81-2.81c.8-.78.8-2.07 0-2.86zM5.41 20L4 18.59l7.72-7.72 1.47 1.35L5.41 20z\"/>\n",
              "  </svg>\n",
              "      </button>\n",
              "\n",
              "\n",
              "\n",
              "    <div id=\"df-8aca2049-6031-4d8d-b309-84b0ae05eaf7\">\n",
              "      <button class=\"colab-df-quickchart\" onclick=\"quickchart('df-8aca2049-6031-4d8d-b309-84b0ae05eaf7')\"\n",
              "              title=\"Suggest charts.\"\n",
              "              style=\"display:none;\">\n",
              "\n",
              "<svg xmlns=\"http://www.w3.org/2000/svg\" height=\"24px\"viewBox=\"0 0 24 24\"\n",
              "     width=\"24px\">\n",
              "    <g>\n",
              "        <path d=\"M19 3H5c-1.1 0-2 .9-2 2v14c0 1.1.9 2 2 2h14c1.1 0 2-.9 2-2V5c0-1.1-.9-2-2-2zM9 17H7v-7h2v7zm4 0h-2V7h2v10zm4 0h-2v-4h2v4z\"/>\n",
              "    </g>\n",
              "</svg>\n",
              "      </button>\n",
              "    </div>\n",
              "\n",
              "<style>\n",
              "  .colab-df-quickchart {\n",
              "    background-color: #E8F0FE;\n",
              "    border: none;\n",
              "    border-radius: 50%;\n",
              "    cursor: pointer;\n",
              "    display: none;\n",
              "    fill: #1967D2;\n",
              "    height: 32px;\n",
              "    padding: 0 0 0 0;\n",
              "    width: 32px;\n",
              "  }\n",
              "\n",
              "  .colab-df-quickchart:hover {\n",
              "    background-color: #E2EBFA;\n",
              "    box-shadow: 0px 1px 2px rgba(60, 64, 67, 0.3), 0px 1px 3px 1px rgba(60, 64, 67, 0.15);\n",
              "    fill: #174EA6;\n",
              "  }\n",
              "\n",
              "  [theme=dark] .colab-df-quickchart {\n",
              "    background-color: #3B4455;\n",
              "    fill: #D2E3FC;\n",
              "  }\n",
              "\n",
              "  [theme=dark] .colab-df-quickchart:hover {\n",
              "    background-color: #434B5C;\n",
              "    box-shadow: 0px 1px 3px 1px rgba(0, 0, 0, 0.15);\n",
              "    filter: drop-shadow(0px 1px 2px rgba(0, 0, 0, 0.3));\n",
              "    fill: #FFFFFF;\n",
              "  }\n",
              "</style>\n",
              "\n",
              "    <script>\n",
              "      async function quickchart(key) {\n",
              "        const containerElement = document.querySelector('#' + key);\n",
              "        const charts = await google.colab.kernel.invokeFunction(\n",
              "            'suggestCharts', [key], {});\n",
              "      }\n",
              "    </script>\n",
              "\n",
              "      <script>\n",
              "\n",
              "function displayQuickchartButton(domScope) {\n",
              "  let quickchartButtonEl =\n",
              "    domScope.querySelector('#df-8aca2049-6031-4d8d-b309-84b0ae05eaf7 button.colab-df-quickchart');\n",
              "  quickchartButtonEl.style.display =\n",
              "    google.colab.kernel.accessAllowed ? 'block' : 'none';\n",
              "}\n",
              "\n",
              "        displayQuickchartButton(document);\n",
              "      </script>\n",
              "      <style>\n",
              "    .colab-df-container {\n",
              "      display:flex;\n",
              "      flex-wrap:wrap;\n",
              "      gap: 12px;\n",
              "    }\n",
              "\n",
              "    .colab-df-convert {\n",
              "      background-color: #E8F0FE;\n",
              "      border: none;\n",
              "      border-radius: 50%;\n",
              "      cursor: pointer;\n",
              "      display: none;\n",
              "      fill: #1967D2;\n",
              "      height: 32px;\n",
              "      padding: 0 0 0 0;\n",
              "      width: 32px;\n",
              "    }\n",
              "\n",
              "    .colab-df-convert:hover {\n",
              "      background-color: #E2EBFA;\n",
              "      box-shadow: 0px 1px 2px rgba(60, 64, 67, 0.3), 0px 1px 3px 1px rgba(60, 64, 67, 0.15);\n",
              "      fill: #174EA6;\n",
              "    }\n",
              "\n",
              "    [theme=dark] .colab-df-convert {\n",
              "      background-color: #3B4455;\n",
              "      fill: #D2E3FC;\n",
              "    }\n",
              "\n",
              "    [theme=dark] .colab-df-convert:hover {\n",
              "      background-color: #434B5C;\n",
              "      box-shadow: 0px 1px 3px 1px rgba(0, 0, 0, 0.15);\n",
              "      filter: drop-shadow(0px 1px 2px rgba(0, 0, 0, 0.3));\n",
              "      fill: #FFFFFF;\n",
              "    }\n",
              "  </style>\n",
              "\n",
              "      <script>\n",
              "        const buttonEl =\n",
              "          document.querySelector('#df-a88015e8-be75-45a3-b9b3-2fcf68bce85b button.colab-df-convert');\n",
              "        buttonEl.style.display =\n",
              "          google.colab.kernel.accessAllowed ? 'block' : 'none';\n",
              "\n",
              "        async function convertToInteractive(key) {\n",
              "          const element = document.querySelector('#df-a88015e8-be75-45a3-b9b3-2fcf68bce85b');\n",
              "          const dataTable =\n",
              "            await google.colab.kernel.invokeFunction('convertToInteractive',\n",
              "                                                     [key], {});\n",
              "          if (!dataTable) return;\n",
              "\n",
              "          const docLinkHtml = 'Like what you see? Visit the ' +\n",
              "            '<a target=\"_blank\" href=https://colab.research.google.com/notebooks/data_table.ipynb>data table notebook</a>'\n",
              "            + ' to learn more about interactive tables.';\n",
              "          element.innerHTML = '';\n",
              "          dataTable['output_type'] = 'display_data';\n",
              "          await google.colab.output.renderOutput(dataTable, element);\n",
              "          const docLink = document.createElement('div');\n",
              "          docLink.innerHTML = docLinkHtml;\n",
              "          element.appendChild(docLink);\n",
              "        }\n",
              "      </script>\n",
              "    </div>\n",
              "  </div>\n"
            ]
          },
          "metadata": {},
          "execution_count": 425
        }
      ]
    },
    {
      "cell_type": "code",
      "source": [
        "# After checking in the csv file, replace the null value by the right title\n",
        "df[\"Title\"].fillna(\"Back to the future\", inplace=True)"
      ],
      "metadata": {
        "id": "5qlckQb_JTTi"
      },
      "execution_count": 426,
      "outputs": []
    },
    {
      "cell_type": "code",
      "source": [
        "# Check the null value was replaced correctly in the index 50\n",
        "df.loc[50]"
      ],
      "metadata": {
        "colab": {
          "base_uri": "https://localhost:8080/"
        },
        "id": "DRPr_VEuJ8Eu",
        "outputId": "9ee1f6b6-e12e-4793-b756-8ae07695689c"
      },
      "execution_count": 427,
      "outputs": [
        {
          "output_type": "execute_result",
          "data": {
            "text/plain": [
              "Title              Back to the future\n",
              "Year                           (1985)\n",
              "Director              Robert Zemeckis\n",
              "Genre       Adventure, Comedy, Sci-Fi\n",
              "Duration                      116 min\n",
              "Gross                        $210.61M\n",
              "Rating                            8.5\n",
              "Name: 50, dtype: object"
            ]
          },
          "metadata": {},
          "execution_count": 427
        }
      ]
    },
    {
      "cell_type": "code",
      "source": [
        "# Check there is no null value anymore in the \"Title\" field\n",
        "df.info()"
      ],
      "metadata": {
        "colab": {
          "base_uri": "https://localhost:8080/"
        },
        "id": "bV2bDuFmmTZx",
        "outputId": "eb44525d-c8fb-42be-c051-bf3451e40785"
      },
      "execution_count": 428,
      "outputs": [
        {
          "output_type": "stream",
          "name": "stdout",
          "text": [
            "<class 'pandas.core.frame.DataFrame'>\n",
            "RangeIndex: 70 entries, 0 to 69\n",
            "Data columns (total 7 columns):\n",
            " #   Column    Non-Null Count  Dtype  \n",
            "---  ------    --------------  -----  \n",
            " 0   Title     70 non-null     object \n",
            " 1   Year      70 non-null     object \n",
            " 2   Director  70 non-null     object \n",
            " 3   Genre     70 non-null     object \n",
            " 4   Duration  70 non-null     object \n",
            " 5   Gross     70 non-null     object \n",
            " 6   Rating    70 non-null     float64\n",
            "dtypes: float64(1), object(6)\n",
            "memory usage: 4.0+ KB\n"
          ]
        }
      ]
    },
    {
      "cell_type": "code",
      "source": [
        "# Remove () from \"Year\" values\n",
        "df[\"Year\"] = df[\"Year\"].str.replace(\"[()]\", \"\", regex=True)\n",
        "\n",
        "# Change the type of \"Year\"\n",
        "df[\"Year\"] = pd.to_datetime(df[\"Year\"]).dt.year"
      ],
      "metadata": {
        "id": "da19IATUjwe6"
      },
      "execution_count": 429,
      "outputs": []
    },
    {
      "cell_type": "code",
      "source": [
        "# Remove \"$\" and \"M\" from \"Gross\" field\n",
        "df[\"Gross\"] = df[\"Gross\"].str.replace(\"$\", \"\", regex=True)\n",
        "df[\"Gross\"] = df[\"Gross\"].str.replace(\"M\", \"\", regex=True)\n",
        "\n",
        "# Rename \"Gross\" field\n",
        "df = df.rename(columns={\"Gross\": \"Gross ($ millions)\"})\n",
        "\n",
        "# Change the type of \"Gross ($ millions)\"\n",
        "df[\"Gross ($ millions)\"] = df[\"Gross ($ millions)\"].astype(float)"
      ],
      "metadata": {
        "id": "r8i6dH_NMVIt"
      },
      "execution_count": 430,
      "outputs": []
    },
    {
      "cell_type": "code",
      "source": [
        "# Remove \"min\" from \"Duration\" field\n",
        "df[\"Duration\"] = df[\"Duration\"].str.replace(\"min\", \"\")\n",
        "\n",
        "# Rename \"Duration\" field\n",
        "df = df.rename(columns={\"Duration\": \"Duration (min)\"})\n",
        "\n",
        "# Change the type of \"Duration (min)\"\n",
        "df[\"Duration (min)\"] = df[\"Duration (min)\"].astype(int)"
      ],
      "metadata": {
        "id": "WDSkS8m5flar"
      },
      "execution_count": 431,
      "outputs": []
    },
    {
      "cell_type": "code",
      "source": [
        "df.head()"
      ],
      "metadata": {
        "colab": {
          "base_uri": "https://localhost:8080/",
          "height": 206
        },
        "id": "QU52xOOmNjQX",
        "outputId": "4c6d789e-6dc1-4af7-fa3b-2a011fababa0"
      },
      "execution_count": 432,
      "outputs": [
        {
          "output_type": "execute_result",
          "data": {
            "text/plain": [
              "                      Title  Year           Director  \\\n",
              "0  The Shawshank Redemption  1994     Frank Darabont   \n",
              "1           The Dark Knight  2008  Christopher Nolan   \n",
              "2                 Inception  2010  Christopher Nolan   \n",
              "3                Fight Club  1999      David Fincher   \n",
              "4              Forrest Gump  1994    Robert Zemeckis   \n",
              "\n",
              "                       Genre  Duration (min)  Gross ($ millions)  Rating  \n",
              "0                      Drama             142               28.34     9.3  \n",
              "1       Action, Crime, Drama             152              534.86     9.0  \n",
              "2  Action, Adventure, Sci-Fi             148              292.58     8.8  \n",
              "3                      Drama             139               37.03     8.8  \n",
              "4             Drama, Romance             142              330.25     8.8  "
            ],
            "text/html": [
              "\n",
              "\n",
              "  <div id=\"df-772d827f-d81c-47a7-916c-dab6c903164d\">\n",
              "    <div class=\"colab-df-container\">\n",
              "      <div>\n",
              "<style scoped>\n",
              "    .dataframe tbody tr th:only-of-type {\n",
              "        vertical-align: middle;\n",
              "    }\n",
              "\n",
              "    .dataframe tbody tr th {\n",
              "        vertical-align: top;\n",
              "    }\n",
              "\n",
              "    .dataframe thead th {\n",
              "        text-align: right;\n",
              "    }\n",
              "</style>\n",
              "<table border=\"1\" class=\"dataframe\">\n",
              "  <thead>\n",
              "    <tr style=\"text-align: right;\">\n",
              "      <th></th>\n",
              "      <th>Title</th>\n",
              "      <th>Year</th>\n",
              "      <th>Director</th>\n",
              "      <th>Genre</th>\n",
              "      <th>Duration (min)</th>\n",
              "      <th>Gross ($ millions)</th>\n",
              "      <th>Rating</th>\n",
              "    </tr>\n",
              "  </thead>\n",
              "  <tbody>\n",
              "    <tr>\n",
              "      <th>0</th>\n",
              "      <td>The Shawshank Redemption</td>\n",
              "      <td>1994</td>\n",
              "      <td>Frank Darabont</td>\n",
              "      <td>Drama</td>\n",
              "      <td>142</td>\n",
              "      <td>28.34</td>\n",
              "      <td>9.3</td>\n",
              "    </tr>\n",
              "    <tr>\n",
              "      <th>1</th>\n",
              "      <td>The Dark Knight</td>\n",
              "      <td>2008</td>\n",
              "      <td>Christopher Nolan</td>\n",
              "      <td>Action, Crime, Drama</td>\n",
              "      <td>152</td>\n",
              "      <td>534.86</td>\n",
              "      <td>9.0</td>\n",
              "    </tr>\n",
              "    <tr>\n",
              "      <th>2</th>\n",
              "      <td>Inception</td>\n",
              "      <td>2010</td>\n",
              "      <td>Christopher Nolan</td>\n",
              "      <td>Action, Adventure, Sci-Fi</td>\n",
              "      <td>148</td>\n",
              "      <td>292.58</td>\n",
              "      <td>8.8</td>\n",
              "    </tr>\n",
              "    <tr>\n",
              "      <th>3</th>\n",
              "      <td>Fight Club</td>\n",
              "      <td>1999</td>\n",
              "      <td>David Fincher</td>\n",
              "      <td>Drama</td>\n",
              "      <td>139</td>\n",
              "      <td>37.03</td>\n",
              "      <td>8.8</td>\n",
              "    </tr>\n",
              "    <tr>\n",
              "      <th>4</th>\n",
              "      <td>Forrest Gump</td>\n",
              "      <td>1994</td>\n",
              "      <td>Robert Zemeckis</td>\n",
              "      <td>Drama, Romance</td>\n",
              "      <td>142</td>\n",
              "      <td>330.25</td>\n",
              "      <td>8.8</td>\n",
              "    </tr>\n",
              "  </tbody>\n",
              "</table>\n",
              "</div>\n",
              "      <button class=\"colab-df-convert\" onclick=\"convertToInteractive('df-772d827f-d81c-47a7-916c-dab6c903164d')\"\n",
              "              title=\"Convert this dataframe to an interactive table.\"\n",
              "              style=\"display:none;\">\n",
              "\n",
              "  <svg xmlns=\"http://www.w3.org/2000/svg\" height=\"24px\"viewBox=\"0 0 24 24\"\n",
              "       width=\"24px\">\n",
              "    <path d=\"M0 0h24v24H0V0z\" fill=\"none\"/>\n",
              "    <path d=\"M18.56 5.44l.94 2.06.94-2.06 2.06-.94-2.06-.94-.94-2.06-.94 2.06-2.06.94zm-11 1L8.5 8.5l.94-2.06 2.06-.94-2.06-.94L8.5 2.5l-.94 2.06-2.06.94zm10 10l.94 2.06.94-2.06 2.06-.94-2.06-.94-.94-2.06-.94 2.06-2.06.94z\"/><path d=\"M17.41 7.96l-1.37-1.37c-.4-.4-.92-.59-1.43-.59-.52 0-1.04.2-1.43.59L10.3 9.45l-7.72 7.72c-.78.78-.78 2.05 0 2.83L4 21.41c.39.39.9.59 1.41.59.51 0 1.02-.2 1.41-.59l7.78-7.78 2.81-2.81c.8-.78.8-2.07 0-2.86zM5.41 20L4 18.59l7.72-7.72 1.47 1.35L5.41 20z\"/>\n",
              "  </svg>\n",
              "      </button>\n",
              "\n",
              "\n",
              "\n",
              "    <div id=\"df-03dceb15-92f8-4140-92d8-c34436687f5f\">\n",
              "      <button class=\"colab-df-quickchart\" onclick=\"quickchart('df-03dceb15-92f8-4140-92d8-c34436687f5f')\"\n",
              "              title=\"Suggest charts.\"\n",
              "              style=\"display:none;\">\n",
              "\n",
              "<svg xmlns=\"http://www.w3.org/2000/svg\" height=\"24px\"viewBox=\"0 0 24 24\"\n",
              "     width=\"24px\">\n",
              "    <g>\n",
              "        <path d=\"M19 3H5c-1.1 0-2 .9-2 2v14c0 1.1.9 2 2 2h14c1.1 0 2-.9 2-2V5c0-1.1-.9-2-2-2zM9 17H7v-7h2v7zm4 0h-2V7h2v10zm4 0h-2v-4h2v4z\"/>\n",
              "    </g>\n",
              "</svg>\n",
              "      </button>\n",
              "    </div>\n",
              "\n",
              "<style>\n",
              "  .colab-df-quickchart {\n",
              "    background-color: #E8F0FE;\n",
              "    border: none;\n",
              "    border-radius: 50%;\n",
              "    cursor: pointer;\n",
              "    display: none;\n",
              "    fill: #1967D2;\n",
              "    height: 32px;\n",
              "    padding: 0 0 0 0;\n",
              "    width: 32px;\n",
              "  }\n",
              "\n",
              "  .colab-df-quickchart:hover {\n",
              "    background-color: #E2EBFA;\n",
              "    box-shadow: 0px 1px 2px rgba(60, 64, 67, 0.3), 0px 1px 3px 1px rgba(60, 64, 67, 0.15);\n",
              "    fill: #174EA6;\n",
              "  }\n",
              "\n",
              "  [theme=dark] .colab-df-quickchart {\n",
              "    background-color: #3B4455;\n",
              "    fill: #D2E3FC;\n",
              "  }\n",
              "\n",
              "  [theme=dark] .colab-df-quickchart:hover {\n",
              "    background-color: #434B5C;\n",
              "    box-shadow: 0px 1px 3px 1px rgba(0, 0, 0, 0.15);\n",
              "    filter: drop-shadow(0px 1px 2px rgba(0, 0, 0, 0.3));\n",
              "    fill: #FFFFFF;\n",
              "  }\n",
              "</style>\n",
              "\n",
              "    <script>\n",
              "      async function quickchart(key) {\n",
              "        const containerElement = document.querySelector('#' + key);\n",
              "        const charts = await google.colab.kernel.invokeFunction(\n",
              "            'suggestCharts', [key], {});\n",
              "      }\n",
              "    </script>\n",
              "\n",
              "      <script>\n",
              "\n",
              "function displayQuickchartButton(domScope) {\n",
              "  let quickchartButtonEl =\n",
              "    domScope.querySelector('#df-03dceb15-92f8-4140-92d8-c34436687f5f button.colab-df-quickchart');\n",
              "  quickchartButtonEl.style.display =\n",
              "    google.colab.kernel.accessAllowed ? 'block' : 'none';\n",
              "}\n",
              "\n",
              "        displayQuickchartButton(document);\n",
              "      </script>\n",
              "      <style>\n",
              "    .colab-df-container {\n",
              "      display:flex;\n",
              "      flex-wrap:wrap;\n",
              "      gap: 12px;\n",
              "    }\n",
              "\n",
              "    .colab-df-convert {\n",
              "      background-color: #E8F0FE;\n",
              "      border: none;\n",
              "      border-radius: 50%;\n",
              "      cursor: pointer;\n",
              "      display: none;\n",
              "      fill: #1967D2;\n",
              "      height: 32px;\n",
              "      padding: 0 0 0 0;\n",
              "      width: 32px;\n",
              "    }\n",
              "\n",
              "    .colab-df-convert:hover {\n",
              "      background-color: #E2EBFA;\n",
              "      box-shadow: 0px 1px 2px rgba(60, 64, 67, 0.3), 0px 1px 3px 1px rgba(60, 64, 67, 0.15);\n",
              "      fill: #174EA6;\n",
              "    }\n",
              "\n",
              "    [theme=dark] .colab-df-convert {\n",
              "      background-color: #3B4455;\n",
              "      fill: #D2E3FC;\n",
              "    }\n",
              "\n",
              "    [theme=dark] .colab-df-convert:hover {\n",
              "      background-color: #434B5C;\n",
              "      box-shadow: 0px 1px 3px 1px rgba(0, 0, 0, 0.15);\n",
              "      filter: drop-shadow(0px 1px 2px rgba(0, 0, 0, 0.3));\n",
              "      fill: #FFFFFF;\n",
              "    }\n",
              "  </style>\n",
              "\n",
              "      <script>\n",
              "        const buttonEl =\n",
              "          document.querySelector('#df-772d827f-d81c-47a7-916c-dab6c903164d button.colab-df-convert');\n",
              "        buttonEl.style.display =\n",
              "          google.colab.kernel.accessAllowed ? 'block' : 'none';\n",
              "\n",
              "        async function convertToInteractive(key) {\n",
              "          const element = document.querySelector('#df-772d827f-d81c-47a7-916c-dab6c903164d');\n",
              "          const dataTable =\n",
              "            await google.colab.kernel.invokeFunction('convertToInteractive',\n",
              "                                                     [key], {});\n",
              "          if (!dataTable) return;\n",
              "\n",
              "          const docLinkHtml = 'Like what you see? Visit the ' +\n",
              "            '<a target=\"_blank\" href=https://colab.research.google.com/notebooks/data_table.ipynb>data table notebook</a>'\n",
              "            + ' to learn more about interactive tables.';\n",
              "          element.innerHTML = '';\n",
              "          dataTable['output_type'] = 'display_data';\n",
              "          await google.colab.output.renderOutput(dataTable, element);\n",
              "          const docLink = document.createElement('div');\n",
              "          docLink.innerHTML = docLinkHtml;\n",
              "          element.appendChild(docLink);\n",
              "        }\n",
              "      </script>\n",
              "    </div>\n",
              "  </div>\n"
            ]
          },
          "metadata": {},
          "execution_count": 432
        }
      ]
    },
    {
      "cell_type": "code",
      "source": [
        "df.info()"
      ],
      "metadata": {
        "colab": {
          "base_uri": "https://localhost:8080/"
        },
        "id": "S6va1l3HQwbl",
        "outputId": "9f0f8d28-431d-4286-9cb9-5a5976aa32cf"
      },
      "execution_count": 433,
      "outputs": [
        {
          "output_type": "stream",
          "name": "stdout",
          "text": [
            "<class 'pandas.core.frame.DataFrame'>\n",
            "RangeIndex: 70 entries, 0 to 69\n",
            "Data columns (total 7 columns):\n",
            " #   Column              Non-Null Count  Dtype  \n",
            "---  ------              --------------  -----  \n",
            " 0   Title               70 non-null     object \n",
            " 1   Year                70 non-null     int64  \n",
            " 2   Director            70 non-null     object \n",
            " 3   Genre               70 non-null     object \n",
            " 4   Duration (min)      70 non-null     int64  \n",
            " 5   Gross ($ millions)  70 non-null     float64\n",
            " 6   Rating              70 non-null     float64\n",
            "dtypes: float64(2), int64(2), object(3)\n",
            "memory usage: 4.0+ KB\n"
          ]
        }
      ]
    },
    {
      "cell_type": "markdown",
      "source": [],
      "metadata": {
        "id": "Cx4UPbFVx6mZ"
      }
    },
    {
      "cell_type": "code",
      "source": [
        "# Save the cleaned dataset\n",
        "df.to_csv(\"Top_movies_cleaned.csv\")"
      ],
      "metadata": {
        "id": "g4sjZuexPSzO"
      },
      "execution_count": 434,
      "outputs": []
    },
    {
      "cell_type": "markdown",
      "source": [
        "# **Dataset analysis**"
      ],
      "metadata": {
        "id": "E1IG9fPBx1tQ"
      }
    },
    {
      "cell_type": "markdown",
      "source": [
        "### 1. Which director has the highest number of movies in the top 50 rated movies?"
      ],
      "metadata": {
        "id": "XQMGq68Q2YxE"
      }
    },
    {
      "cell_type": "code",
      "source": [
        "# Select the top 50\n",
        "df_50 = df.sort_values(\"Rating\", ascending=False).head(50)"
      ],
      "metadata": {
        "id": "E3QfjtT82jqs"
      },
      "execution_count": 435,
      "outputs": []
    },
    {
      "cell_type": "code",
      "source": [
        "df_50.head()"
      ],
      "metadata": {
        "colab": {
          "base_uri": "https://localhost:8080/",
          "height": 206
        },
        "id": "8-WuIhfI3KPH",
        "outputId": "a771235c-877d-4f10-a9d2-a3813c11a027"
      },
      "execution_count": 436,
      "outputs": [
        {
          "output_type": "execute_result",
          "data": {
            "text/plain": [
              "                                            Title  Year              Director  \\\n",
              "0                        The Shawshank Redemption  1994        Frank Darabont   \n",
              "8                                   The Godfather  1972  Francis Ford Coppola   \n",
              "28                          The Godfather Part II  1974  Francis Ford Coppola   \n",
              "9   The Lord of the Rings: The Return of the King  2003         Peter Jackson   \n",
              "21                               Schindler's List  1993      Steven Spielberg   \n",
              "\n",
              "                        Genre  Duration (min)  Gross ($ millions)  Rating  \n",
              "0                       Drama             142               28.34     9.3  \n",
              "8                Crime, Drama             175              134.97     9.2  \n",
              "28               Crime, Drama             202               57.30     9.0  \n",
              "9    Action, Adventure, Drama             201              377.85     9.0  \n",
              "21  Biography, Drama, History             195               96.90     9.0  "
            ],
            "text/html": [
              "\n",
              "\n",
              "  <div id=\"df-0a93f98f-4fc6-4f61-a77a-3c9fde12fb1f\">\n",
              "    <div class=\"colab-df-container\">\n",
              "      <div>\n",
              "<style scoped>\n",
              "    .dataframe tbody tr th:only-of-type {\n",
              "        vertical-align: middle;\n",
              "    }\n",
              "\n",
              "    .dataframe tbody tr th {\n",
              "        vertical-align: top;\n",
              "    }\n",
              "\n",
              "    .dataframe thead th {\n",
              "        text-align: right;\n",
              "    }\n",
              "</style>\n",
              "<table border=\"1\" class=\"dataframe\">\n",
              "  <thead>\n",
              "    <tr style=\"text-align: right;\">\n",
              "      <th></th>\n",
              "      <th>Title</th>\n",
              "      <th>Year</th>\n",
              "      <th>Director</th>\n",
              "      <th>Genre</th>\n",
              "      <th>Duration (min)</th>\n",
              "      <th>Gross ($ millions)</th>\n",
              "      <th>Rating</th>\n",
              "    </tr>\n",
              "  </thead>\n",
              "  <tbody>\n",
              "    <tr>\n",
              "      <th>0</th>\n",
              "      <td>The Shawshank Redemption</td>\n",
              "      <td>1994</td>\n",
              "      <td>Frank Darabont</td>\n",
              "      <td>Drama</td>\n",
              "      <td>142</td>\n",
              "      <td>28.34</td>\n",
              "      <td>9.3</td>\n",
              "    </tr>\n",
              "    <tr>\n",
              "      <th>8</th>\n",
              "      <td>The Godfather</td>\n",
              "      <td>1972</td>\n",
              "      <td>Francis Ford Coppola</td>\n",
              "      <td>Crime, Drama</td>\n",
              "      <td>175</td>\n",
              "      <td>134.97</td>\n",
              "      <td>9.2</td>\n",
              "    </tr>\n",
              "    <tr>\n",
              "      <th>28</th>\n",
              "      <td>The Godfather Part II</td>\n",
              "      <td>1974</td>\n",
              "      <td>Francis Ford Coppola</td>\n",
              "      <td>Crime, Drama</td>\n",
              "      <td>202</td>\n",
              "      <td>57.30</td>\n",
              "      <td>9.0</td>\n",
              "    </tr>\n",
              "    <tr>\n",
              "      <th>9</th>\n",
              "      <td>The Lord of the Rings: The Return of the King</td>\n",
              "      <td>2003</td>\n",
              "      <td>Peter Jackson</td>\n",
              "      <td>Action, Adventure, Drama</td>\n",
              "      <td>201</td>\n",
              "      <td>377.85</td>\n",
              "      <td>9.0</td>\n",
              "    </tr>\n",
              "    <tr>\n",
              "      <th>21</th>\n",
              "      <td>Schindler's List</td>\n",
              "      <td>1993</td>\n",
              "      <td>Steven Spielberg</td>\n",
              "      <td>Biography, Drama, History</td>\n",
              "      <td>195</td>\n",
              "      <td>96.90</td>\n",
              "      <td>9.0</td>\n",
              "    </tr>\n",
              "  </tbody>\n",
              "</table>\n",
              "</div>\n",
              "      <button class=\"colab-df-convert\" onclick=\"convertToInteractive('df-0a93f98f-4fc6-4f61-a77a-3c9fde12fb1f')\"\n",
              "              title=\"Convert this dataframe to an interactive table.\"\n",
              "              style=\"display:none;\">\n",
              "\n",
              "  <svg xmlns=\"http://www.w3.org/2000/svg\" height=\"24px\"viewBox=\"0 0 24 24\"\n",
              "       width=\"24px\">\n",
              "    <path d=\"M0 0h24v24H0V0z\" fill=\"none\"/>\n",
              "    <path d=\"M18.56 5.44l.94 2.06.94-2.06 2.06-.94-2.06-.94-.94-2.06-.94 2.06-2.06.94zm-11 1L8.5 8.5l.94-2.06 2.06-.94-2.06-.94L8.5 2.5l-.94 2.06-2.06.94zm10 10l.94 2.06.94-2.06 2.06-.94-2.06-.94-.94-2.06-.94 2.06-2.06.94z\"/><path d=\"M17.41 7.96l-1.37-1.37c-.4-.4-.92-.59-1.43-.59-.52 0-1.04.2-1.43.59L10.3 9.45l-7.72 7.72c-.78.78-.78 2.05 0 2.83L4 21.41c.39.39.9.59 1.41.59.51 0 1.02-.2 1.41-.59l7.78-7.78 2.81-2.81c.8-.78.8-2.07 0-2.86zM5.41 20L4 18.59l7.72-7.72 1.47 1.35L5.41 20z\"/>\n",
              "  </svg>\n",
              "      </button>\n",
              "\n",
              "\n",
              "\n",
              "    <div id=\"df-3be06ec0-333a-4fc3-9ac9-71339952dc04\">\n",
              "      <button class=\"colab-df-quickchart\" onclick=\"quickchart('df-3be06ec0-333a-4fc3-9ac9-71339952dc04')\"\n",
              "              title=\"Suggest charts.\"\n",
              "              style=\"display:none;\">\n",
              "\n",
              "<svg xmlns=\"http://www.w3.org/2000/svg\" height=\"24px\"viewBox=\"0 0 24 24\"\n",
              "     width=\"24px\">\n",
              "    <g>\n",
              "        <path d=\"M19 3H5c-1.1 0-2 .9-2 2v14c0 1.1.9 2 2 2h14c1.1 0 2-.9 2-2V5c0-1.1-.9-2-2-2zM9 17H7v-7h2v7zm4 0h-2V7h2v10zm4 0h-2v-4h2v4z\"/>\n",
              "    </g>\n",
              "</svg>\n",
              "      </button>\n",
              "    </div>\n",
              "\n",
              "<style>\n",
              "  .colab-df-quickchart {\n",
              "    background-color: #E8F0FE;\n",
              "    border: none;\n",
              "    border-radius: 50%;\n",
              "    cursor: pointer;\n",
              "    display: none;\n",
              "    fill: #1967D2;\n",
              "    height: 32px;\n",
              "    padding: 0 0 0 0;\n",
              "    width: 32px;\n",
              "  }\n",
              "\n",
              "  .colab-df-quickchart:hover {\n",
              "    background-color: #E2EBFA;\n",
              "    box-shadow: 0px 1px 2px rgba(60, 64, 67, 0.3), 0px 1px 3px 1px rgba(60, 64, 67, 0.15);\n",
              "    fill: #174EA6;\n",
              "  }\n",
              "\n",
              "  [theme=dark] .colab-df-quickchart {\n",
              "    background-color: #3B4455;\n",
              "    fill: #D2E3FC;\n",
              "  }\n",
              "\n",
              "  [theme=dark] .colab-df-quickchart:hover {\n",
              "    background-color: #434B5C;\n",
              "    box-shadow: 0px 1px 3px 1px rgba(0, 0, 0, 0.15);\n",
              "    filter: drop-shadow(0px 1px 2px rgba(0, 0, 0, 0.3));\n",
              "    fill: #FFFFFF;\n",
              "  }\n",
              "</style>\n",
              "\n",
              "    <script>\n",
              "      async function quickchart(key) {\n",
              "        const containerElement = document.querySelector('#' + key);\n",
              "        const charts = await google.colab.kernel.invokeFunction(\n",
              "            'suggestCharts', [key], {});\n",
              "      }\n",
              "    </script>\n",
              "\n",
              "      <script>\n",
              "\n",
              "function displayQuickchartButton(domScope) {\n",
              "  let quickchartButtonEl =\n",
              "    domScope.querySelector('#df-3be06ec0-333a-4fc3-9ac9-71339952dc04 button.colab-df-quickchart');\n",
              "  quickchartButtonEl.style.display =\n",
              "    google.colab.kernel.accessAllowed ? 'block' : 'none';\n",
              "}\n",
              "\n",
              "        displayQuickchartButton(document);\n",
              "      </script>\n",
              "      <style>\n",
              "    .colab-df-container {\n",
              "      display:flex;\n",
              "      flex-wrap:wrap;\n",
              "      gap: 12px;\n",
              "    }\n",
              "\n",
              "    .colab-df-convert {\n",
              "      background-color: #E8F0FE;\n",
              "      border: none;\n",
              "      border-radius: 50%;\n",
              "      cursor: pointer;\n",
              "      display: none;\n",
              "      fill: #1967D2;\n",
              "      height: 32px;\n",
              "      padding: 0 0 0 0;\n",
              "      width: 32px;\n",
              "    }\n",
              "\n",
              "    .colab-df-convert:hover {\n",
              "      background-color: #E2EBFA;\n",
              "      box-shadow: 0px 1px 2px rgba(60, 64, 67, 0.3), 0px 1px 3px 1px rgba(60, 64, 67, 0.15);\n",
              "      fill: #174EA6;\n",
              "    }\n",
              "\n",
              "    [theme=dark] .colab-df-convert {\n",
              "      background-color: #3B4455;\n",
              "      fill: #D2E3FC;\n",
              "    }\n",
              "\n",
              "    [theme=dark] .colab-df-convert:hover {\n",
              "      background-color: #434B5C;\n",
              "      box-shadow: 0px 1px 3px 1px rgba(0, 0, 0, 0.15);\n",
              "      filter: drop-shadow(0px 1px 2px rgba(0, 0, 0, 0.3));\n",
              "      fill: #FFFFFF;\n",
              "    }\n",
              "  </style>\n",
              "\n",
              "      <script>\n",
              "        const buttonEl =\n",
              "          document.querySelector('#df-0a93f98f-4fc6-4f61-a77a-3c9fde12fb1f button.colab-df-convert');\n",
              "        buttonEl.style.display =\n",
              "          google.colab.kernel.accessAllowed ? 'block' : 'none';\n",
              "\n",
              "        async function convertToInteractive(key) {\n",
              "          const element = document.querySelector('#df-0a93f98f-4fc6-4f61-a77a-3c9fde12fb1f');\n",
              "          const dataTable =\n",
              "            await google.colab.kernel.invokeFunction('convertToInteractive',\n",
              "                                                     [key], {});\n",
              "          if (!dataTable) return;\n",
              "\n",
              "          const docLinkHtml = 'Like what you see? Visit the ' +\n",
              "            '<a target=\"_blank\" href=https://colab.research.google.com/notebooks/data_table.ipynb>data table notebook</a>'\n",
              "            + ' to learn more about interactive tables.';\n",
              "          element.innerHTML = '';\n",
              "          dataTable['output_type'] = 'display_data';\n",
              "          await google.colab.output.renderOutput(dataTable, element);\n",
              "          const docLink = document.createElement('div');\n",
              "          docLink.innerHTML = docLinkHtml;\n",
              "          element.appendChild(docLink);\n",
              "        }\n",
              "      </script>\n",
              "    </div>\n",
              "  </div>\n"
            ]
          },
          "metadata": {},
          "execution_count": 436
        }
      ]
    },
    {
      "cell_type": "code",
      "source": [
        "# Group by director\n",
        "df_50_director = df_50.groupby(\"Director\")[\"Title\"].count()\n",
        "\n",
        "# Find the director with the highest number of movies in the top 50\n",
        "max_movies_director = df_50_director.idxmax()\n",
        "print(max_movies_director, \"has the highest number of movies in the top 50 rated movies.\")"
      ],
      "metadata": {
        "colab": {
          "base_uri": "https://localhost:8080/"
        },
        "id": "3HF5p1XO3gvq",
        "outputId": "7ed48222-5ac6-4384-82dc-5a0d7b83dcdb"
      },
      "execution_count": 437,
      "outputs": [
        {
          "output_type": "stream",
          "name": "stdout",
          "text": [
            "Christopher Nolan has the highest number of movies in the top 50 rated movies.\n"
          ]
        }
      ]
    },
    {
      "cell_type": "markdown",
      "source": [
        "### 2. Which genre has the highest rating among the top 50 rated movies?"
      ],
      "metadata": {
        "id": "RlhAs98T510i"
      }
    },
    {
      "cell_type": "code",
      "source": [
        "# Split the row where there are several genres\n",
        "\n",
        "split_genre = [] # Create an empty list\n",
        "for index, row in df_50.iterrows(): # Iterate through each row in df_50\n",
        "    # Get the \"Genre\" and \"Rating\" values\n",
        "    genre = row['Genre']\n",
        "    rating = row['Rating']\n",
        "    for genre in genre.split(', '):  # Split the \"Genre\" by comma and space to get individual genres\n",
        "        # Create a tuple with the individual genre and the corresponding rating and append it to the \"split_genres\" list\n",
        "        split_genre.append((genre, rating))\n",
        "\n",
        "print(split_genre)"
      ],
      "metadata": {
        "colab": {
          "base_uri": "https://localhost:8080/"
        },
        "id": "y05QqWXUKaak",
        "outputId": "36219085-7318-4b7a-e381-1feb979d4931"
      },
      "execution_count": 438,
      "outputs": [
        {
          "output_type": "stream",
          "name": "stdout",
          "text": [
            "[('Drama', 9.3), ('Crime', 9.2), ('Drama', 9.2), ('Crime', 9.0), ('Drama', 9.0), ('Action', 9.0), ('Adventure', 9.0), ('Drama', 9.0), ('Biography', 9.0), ('Drama', 9.0), ('History', 9.0), ('Action', 9.0), ('Crime', 9.0), ('Drama', 9.0), ('Crime', 8.9), ('Drama', 8.9), ('Action', 8.8), ('Adventure', 8.8), ('Sci-Fi', 8.8), ('Drama', 8.8), ('Drama', 8.8), ('Romance', 8.8), ('Action', 8.8), ('Adventure', 8.8), ('Drama', 8.8), ('Action', 8.8), ('Adventure', 8.8), ('Drama', 8.8), ('Biography', 8.7), ('Crime', 8.7), ('Drama', 8.7), ('Biography', 8.7), ('Crime', 8.7), ('Drama', 8.7), ('Action', 8.7), ('Adventure', 8.7), ('Fantasy', 8.7), ('Action', 8.7), ('Sci-Fi', 8.7), ('Action', 8.6), ('Sci-Fi', 8.6), ('Crime', 8.6), ('Drama', 8.6), ('Thriller', 8.6), ('Drama', 8.6), ('War', 8.6), ('Action', 8.6), ('Sci-Fi', 8.6), ('Action', 8.6), ('Adventure', 8.6), ('Fantasy', 8.6), ('Crime', 8.6), ('Drama', 8.6), ('Mystery', 8.6), ('Crime', 8.6), ('Drama', 8.6), ('Fantasy', 8.6), ('Action', 8.5), ('Crime', 8.5), ('Drama', 8.5), ('Crime', 8.5), ('Drama', 8.5), ('Mystery', 8.5), ('Adventure', 8.5), ('Comedy', 8.5), ('Sci-Fi', 8.5), ('Adventure', 8.5), ('Comedy', 8.5), ('Sci-Fi', 8.5), ('Animation', 8.5), ('Adventure', 8.5), ('Drama', 8.5), ('Crime', 8.5), ('Drama', 8.5), ('Crime', 8.5), ('Drama', 8.5), ('Thriller', 8.5), ('Action', 8.5), ('Crime', 8.5), ('Drama', 8.5), ('Drama', 8.5), ('Mystery', 8.5), ('Sci-Fi', 8.5), ('Crime', 8.5), ('Drama', 8.5), ('Action', 8.5), ('Adventure', 8.5), ('Drama', 8.5), ('Crime', 8.5), ('Drama', 8.5), ('Mystery', 8.5), ('Animation', 8.5), ('Adventure', 8.5), ('Drama', 8.5), ('Drama', 8.4), ('Horror', 8.4), ('Animation', 8.4), ('Adventure', 8.4), ('Family', 8.4), ('Drama', 8.4), ('Horror', 8.4), ('Drama', 8.4), ('Western', 8.4), ('Animation', 8.4), ('Adventure', 8.4), ('Family', 8.4), ('Action', 8.4), ('Drama', 8.4), ('Thriller', 8.4), ('Mystery', 8.4), ('Thriller', 8.4), ('Drama', 8.3), ('Animation', 8.3), ('Adventure', 8.3), ('Comedy', 8.3), ('Action', 8.3), ('Adventure', 8.3), ('Fantasy', 8.3), ('Adventure', 8.3), ('Drama', 8.3), ('War', 8.3), ('Biography', 8.3), ('Drama', 8.3), ('History', 8.3), ('Animation', 8.3), ('Adventure', 8.3), ('Comedy', 8.3), ('Action', 8.3), ('Adventure', 8.3), ('Fantasy', 8.3)]\n"
          ]
        }
      ]
    },
    {
      "cell_type": "code",
      "source": [
        "# Create a dataframe with the genre and the corresponding rating\n",
        "df_genre_rating = pd.DataFrame(split_genre, columns=[\"Genre\", \"Rating\"])\n",
        "\n",
        "# Group by genre\n",
        "df_genre_rating = df_genre_rating.groupby(\"Genre\")[\"Rating\"].mean()\n",
        "\n",
        "# Find the genre with the highest rating in the top 50\n",
        "max_rating = df_genre_rating.idxmax()\n",
        "\n",
        "print(max_rating, \"genre has the highest rating among the top 50 rated movies.\")"
      ],
      "metadata": {
        "colab": {
          "base_uri": "https://localhost:8080/"
        },
        "id": "OpRfVleSNBG1",
        "outputId": "9514a660-a313-41a3-8e5b-220acdbd9bff"
      },
      "execution_count": 439,
      "outputs": [
        {
          "output_type": "stream",
          "name": "stdout",
          "text": [
            "Romance genre has the highest rating among the top 50 rated movies.\n"
          ]
        }
      ]
    },
    {
      "cell_type": "markdown",
      "source": [
        "### 3. What is the gross expenditure of the lowest-rated movies as compared with the highest-rated ones?"
      ],
      "metadata": {
        "id": "OLEjHCAWPsjV"
      }
    },
    {
      "cell_type": "code",
      "source": [
        "# Group by rating\n",
        "df_rating_gross = df.groupby(\"Rating\")[\"Gross ($ millions)\"].mean()\n",
        "\n",
        "# Create a dataframe and reset index\n",
        "df_rating_gross = pd.DataFrame(df_rating_gross)\n",
        "df_rating_gross.reset_index(inplace=True)\n",
        "\n",
        "# Sort the dataframe in ascending order based on the \"Rating\" column\n",
        "df_rating_gross_sorted = df_rating_gross.sort_values(by=\"Rating\")\n",
        "\n",
        "# Get the first row, which corresponds to the lowest-rated movie's gross expenditure\n",
        "lowest_rated_movie_gross = df_rating_gross_sorted.iloc[0][\"Gross ($ millions)\"]\n",
        "print(\"The gross expenditure for the lowest-rated movie is $\" + str(round(lowest_rated_movie_gross, 3)), \"M.\")\n",
        "\n",
        "# Get the last row, which corresponds to the highest-rated movie's gross expenditure\n",
        "highest_rated_movie_gross = df_rating_gross_sorted.iloc[-1][\"Gross ($ millions)\"]\n",
        "print(\"The gross expenditure for the highest-rated movie is $\" + str(round(highest_rated_movie_gross, 3)), \"M.\")"
      ],
      "metadata": {
        "colab": {
          "base_uri": "https://localhost:8080/"
        },
        "id": "AFwGjWA8QAd5",
        "outputId": "e82a87ea-19ff-4ba3-f783-5373cc6c6ec1"
      },
      "execution_count": 440,
      "outputs": [
        {
          "output_type": "stream",
          "name": "stdout",
          "text": [
            "The gross expenditure for the lowest-rated movie is $543.198 M.\n",
            "The gross expenditure for the highest-rated movie is $28.34 M.\n"
          ]
        }
      ]
    },
    {
      "cell_type": "markdown",
      "source": [
        "We can see that the lowest-rated movie surprisingly had a significantly higher gross expenditure than the highest-rated movie.\n",
        "To better understand the distribution of ratings and their corresponding gross expenditures, we can visualise all the rating values and compare them against their respective gross expenditure using a bar plot."
      ],
      "metadata": {
        "id": "cgmJg2xV7ATy"
      }
    },
    {
      "cell_type": "code",
      "source": [
        "# Visualisation of the rating and gross\n",
        "\n",
        "# Create the bar plot using Seaborn\n",
        "sns.barplot(x=df_rating_gross[\"Rating\"], y=df_rating_gross[\"Gross ($ millions)\"], palette=\"viridis\")\n",
        "plt.xlabel(\"Rating\")\n",
        "plt.ylabel(\"Gross ($ millions)\")\n",
        "plt.title(\"Analysing Movie Ratings and Gross Expenditure Relationship\")"
      ],
      "metadata": {
        "colab": {
          "base_uri": "https://localhost:8080/",
          "height": 489
        },
        "id": "5P5rpRAwP1mh",
        "outputId": "100ff779-a2a2-48ca-e4f3-aab246f21780"
      },
      "execution_count": 441,
      "outputs": [
        {
          "output_type": "execute_result",
          "data": {
            "text/plain": [
              "Text(0.5, 1.0, 'Analysing Movie Ratings and Gross Expenditure Relationship')"
            ]
          },
          "metadata": {},
          "execution_count": 441
        },
        {
          "output_type": "display_data",
          "data": {
            "text/plain": [
              "<Figure size 640x480 with 1 Axes>"
            ],
            "image/png": "[encoded data removed]"
          },
          "metadata": {}
        }
      ]
    },
    {
      "cell_type": "markdown",
      "source": [
        "Upon initial observation, we can see that higher movie gross don't guarantee a higher rating and there must be other factors which influence a movie's rating. The visual representation provides valuable insights into the complex relationship between gross expenditure and rating, encouraging further investigation into the diverse elements contributing to a movie's overall success and audience reception."
      ],
      "metadata": {
        "id": "Sn74YItz9Pbo"
      }
    }
  ]
}